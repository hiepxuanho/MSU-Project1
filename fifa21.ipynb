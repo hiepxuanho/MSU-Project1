{
 "cells": [
  {
   "cell_type": "code",
   "execution_count": 1,
   "id": "21f99752-fe87-4a26-902f-d226a493e2bf",
   "metadata": {},
   "outputs": [],
   "source": [
    "# Dependencies and Setup\n",
    "import matplotlib.pyplot as plt\n",
    "import pandas as pd\n",
    "import scipy.stats as st\n",
    "import numpy as np\n",
    "from scipy.stats import linregress"
   ]
  },
  {
   "cell_type": "code",
   "execution_count": 2,
   "id": "75555cc6-6bec-4922-a718-6b161aba392e",
   "metadata": {},
   "outputs": [
    {
     "data": {
      "text/html": [
       "<div>\n",
       "<style scoped>\n",
       "    .dataframe tbody tr th:only-of-type {\n",
       "        vertical-align: middle;\n",
       "    }\n",
       "\n",
       "    .dataframe tbody tr th {\n",
       "        vertical-align: top;\n",
       "    }\n",
       "\n",
       "    .dataframe thead th {\n",
       "        text-align: right;\n",
       "    }\n",
       "</style>\n",
       "<table border=\"1\" class=\"dataframe\">\n",
       "  <thead>\n",
       "    <tr style=\"text-align: right;\">\n",
       "      <th></th>\n",
       "      <th>sofifa_id</th>\n",
       "      <th>player_url</th>\n",
       "      <th>short_name</th>\n",
       "      <th>long_name</th>\n",
       "      <th>age</th>\n",
       "      <th>dob</th>\n",
       "      <th>height_cm</th>\n",
       "      <th>weight_kg</th>\n",
       "      <th>nationality</th>\n",
       "      <th>club_name</th>\n",
       "      <th>...</th>\n",
       "      <th>lwb</th>\n",
       "      <th>ldm</th>\n",
       "      <th>cdm</th>\n",
       "      <th>rdm</th>\n",
       "      <th>rwb</th>\n",
       "      <th>lb</th>\n",
       "      <th>lcb</th>\n",
       "      <th>cb</th>\n",
       "      <th>rcb</th>\n",
       "      <th>rb</th>\n",
       "    </tr>\n",
       "  </thead>\n",
       "  <tbody>\n",
       "    <tr>\n",
       "      <th>0</th>\n",
       "      <td>158023</td>\n",
       "      <td>https://sofifa.com/player/158023/lionel-messi/...</td>\n",
       "      <td>L. Messi</td>\n",
       "      <td>Lionel Andrés Messi Cuccittini</td>\n",
       "      <td>33</td>\n",
       "      <td>1987-06-24</td>\n",
       "      <td>170</td>\n",
       "      <td>72</td>\n",
       "      <td>Argentina</td>\n",
       "      <td>FC Barcelona</td>\n",
       "      <td>...</td>\n",
       "      <td>66+3</td>\n",
       "      <td>65+3</td>\n",
       "      <td>65+3</td>\n",
       "      <td>65+3</td>\n",
       "      <td>66+3</td>\n",
       "      <td>62+3</td>\n",
       "      <td>52+3</td>\n",
       "      <td>52+3</td>\n",
       "      <td>52+3</td>\n",
       "      <td>62+3</td>\n",
       "    </tr>\n",
       "    <tr>\n",
       "      <th>1</th>\n",
       "      <td>20801</td>\n",
       "      <td>https://sofifa.com/player/20801/c-ronaldo-dos-...</td>\n",
       "      <td>Cristiano Ronaldo</td>\n",
       "      <td>Cristiano Ronaldo dos Santos Aveiro</td>\n",
       "      <td>35</td>\n",
       "      <td>1985-02-05</td>\n",
       "      <td>187</td>\n",
       "      <td>83</td>\n",
       "      <td>Portugal</td>\n",
       "      <td>Juventus</td>\n",
       "      <td>...</td>\n",
       "      <td>65+3</td>\n",
       "      <td>61+3</td>\n",
       "      <td>61+3</td>\n",
       "      <td>61+3</td>\n",
       "      <td>65+3</td>\n",
       "      <td>61+3</td>\n",
       "      <td>54+3</td>\n",
       "      <td>54+3</td>\n",
       "      <td>54+3</td>\n",
       "      <td>61+3</td>\n",
       "    </tr>\n",
       "    <tr>\n",
       "      <th>2</th>\n",
       "      <td>200389</td>\n",
       "      <td>https://sofifa.com/player/200389/jan-oblak/210002</td>\n",
       "      <td>J. Oblak</td>\n",
       "      <td>Jan Oblak</td>\n",
       "      <td>27</td>\n",
       "      <td>1993-01-07</td>\n",
       "      <td>188</td>\n",
       "      <td>87</td>\n",
       "      <td>Slovenia</td>\n",
       "      <td>Atlético Madrid</td>\n",
       "      <td>...</td>\n",
       "      <td>32+3</td>\n",
       "      <td>36+3</td>\n",
       "      <td>36+3</td>\n",
       "      <td>36+3</td>\n",
       "      <td>32+3</td>\n",
       "      <td>32+3</td>\n",
       "      <td>33+3</td>\n",
       "      <td>33+3</td>\n",
       "      <td>33+3</td>\n",
       "      <td>32+3</td>\n",
       "    </tr>\n",
       "    <tr>\n",
       "      <th>3</th>\n",
       "      <td>188545</td>\n",
       "      <td>https://sofifa.com/player/188545/robert-lewand...</td>\n",
       "      <td>R. Lewandowski</td>\n",
       "      <td>Robert Lewandowski</td>\n",
       "      <td>31</td>\n",
       "      <td>1988-08-21</td>\n",
       "      <td>184</td>\n",
       "      <td>80</td>\n",
       "      <td>Poland</td>\n",
       "      <td>FC Bayern München</td>\n",
       "      <td>...</td>\n",
       "      <td>64+3</td>\n",
       "      <td>65+3</td>\n",
       "      <td>65+3</td>\n",
       "      <td>65+3</td>\n",
       "      <td>64+3</td>\n",
       "      <td>61+3</td>\n",
       "      <td>60+3</td>\n",
       "      <td>60+3</td>\n",
       "      <td>60+3</td>\n",
       "      <td>61+3</td>\n",
       "    </tr>\n",
       "    <tr>\n",
       "      <th>4</th>\n",
       "      <td>190871</td>\n",
       "      <td>https://sofifa.com/player/190871/neymar-da-sil...</td>\n",
       "      <td>Neymar Jr</td>\n",
       "      <td>Neymar da Silva Santos Júnior</td>\n",
       "      <td>28</td>\n",
       "      <td>1992-02-05</td>\n",
       "      <td>175</td>\n",
       "      <td>68</td>\n",
       "      <td>Brazil</td>\n",
       "      <td>Paris Saint-Germain</td>\n",
       "      <td>...</td>\n",
       "      <td>67+3</td>\n",
       "      <td>62+3</td>\n",
       "      <td>62+3</td>\n",
       "      <td>62+3</td>\n",
       "      <td>67+3</td>\n",
       "      <td>62+3</td>\n",
       "      <td>49+3</td>\n",
       "      <td>49+3</td>\n",
       "      <td>49+3</td>\n",
       "      <td>62+3</td>\n",
       "    </tr>\n",
       "  </tbody>\n",
       "</table>\n",
       "<p>5 rows × 106 columns</p>\n",
       "</div>"
      ],
      "text/plain": [
       "   sofifa_id                                         player_url  \\\n",
       "0     158023  https://sofifa.com/player/158023/lionel-messi/...   \n",
       "1      20801  https://sofifa.com/player/20801/c-ronaldo-dos-...   \n",
       "2     200389  https://sofifa.com/player/200389/jan-oblak/210002   \n",
       "3     188545  https://sofifa.com/player/188545/robert-lewand...   \n",
       "4     190871  https://sofifa.com/player/190871/neymar-da-sil...   \n",
       "\n",
       "          short_name                            long_name  age         dob  \\\n",
       "0           L. Messi       Lionel Andrés Messi Cuccittini   33  1987-06-24   \n",
       "1  Cristiano Ronaldo  Cristiano Ronaldo dos Santos Aveiro   35  1985-02-05   \n",
       "2           J. Oblak                            Jan Oblak   27  1993-01-07   \n",
       "3     R. Lewandowski                   Robert Lewandowski   31  1988-08-21   \n",
       "4          Neymar Jr        Neymar da Silva Santos Júnior   28  1992-02-05   \n",
       "\n",
       "   height_cm  weight_kg nationality            club_name  ...   lwb   ldm  \\\n",
       "0        170         72   Argentina         FC Barcelona  ...  66+3  65+3   \n",
       "1        187         83    Portugal             Juventus  ...  65+3  61+3   \n",
       "2        188         87    Slovenia      Atlético Madrid  ...  32+3  36+3   \n",
       "3        184         80      Poland    FC Bayern München  ...  64+3  65+3   \n",
       "4        175         68      Brazil  Paris Saint-Germain  ...  67+3  62+3   \n",
       "\n",
       "    cdm   rdm   rwb    lb   lcb    cb   rcb    rb  \n",
       "0  65+3  65+3  66+3  62+3  52+3  52+3  52+3  62+3  \n",
       "1  61+3  61+3  65+3  61+3  54+3  54+3  54+3  61+3  \n",
       "2  36+3  36+3  32+3  32+3  33+3  33+3  33+3  32+3  \n",
       "3  65+3  65+3  64+3  61+3  60+3  60+3  60+3  61+3  \n",
       "4  62+3  62+3  67+3  62+3  49+3  49+3  49+3  62+3  \n",
       "\n",
       "[5 rows x 106 columns]"
      ]
     },
     "execution_count": 2,
     "metadata": {},
     "output_type": "execute_result"
    }
   ],
   "source": [
    "# players_21 data files\n",
    "players_data_path = \"data/players_21.csv\"\n",
    "\n",
    "# Read the players data\n",
    "df = pd.read_csv(players_data_path)\n",
    "\n",
    "# Display the data table for preview\n",
    "df.head()"
   ]
  },
  {
   "cell_type": "code",
   "execution_count": 3,


   "id": "6c6c08a8-aaab-4e95-9d2a-917af0311981",
   "metadata": {},
   "outputs": [],
   "source": [
    "# Drop missing \n",
    "#df = df.dropna()"
   ]
  },
  {
   "cell_type": "code",
   "execution_count": 4,

   "id": "8c94bb78-451a-438a-b038-7ae7cd4ed774",
   "metadata": {},
   "outputs": [
    {
     "data": {
      "text/plain": [
       "height_cm    int64\n",
       "weight_kg    int64\n",
       "dtype: object"
      ]
     },
     "execution_count": 3,
     "metadata": {},
     "output_type": "execute_result"
    }
   ],
   "source": [
    "# Check height and weight columns if they have the appropriate data type (should be in integers int64)\n",
    "df[['height_cm', 'weight_kg']].dtypes"
   ]
  },
  {
   "cell_type": "code",
   "execution_count": 4,
   "id": "e6e15f81-dca5-49ee-a192-5ba69aeadd3e",
   "metadata": {},
   "outputs": [
    {
     "data": {
      "text/plain": [
       "dtype('O')"
      ]
     },
     "execution_count": 4,
     "metadata": {},
     "output_type": "execute_result"
    }
   ],
   "source": [
    "# Check datatype of 'joined' column\n",
    "df['joined'].dtypes"
   ]
  },
  {
   "cell_type": "code",
   "execution_count": 5,
   "id": "c8a97064-8381-46c3-8ff2-bb3fbf5e91b3",
   "metadata": {},
   "outputs": [
    {
     "data": {
      "text/html": [
       "<div>\n",
       "<style scoped>\n",
       "    .dataframe tbody tr th:only-of-type {\n",
       "        vertical-align: middle;\n",
       "    }\n",
       "\n",
       "    .dataframe tbody tr th {\n",
       "        vertical-align: top;\n",
       "    }\n",
       "\n",
       "    .dataframe thead th {\n",
       "        text-align: right;\n",
       "    }\n",
       "</style>\n",
       "<table border=\"1\" class=\"dataframe\">\n",
       "  <thead>\n",
       "    <tr style=\"text-align: right;\">\n",
       "      <th></th>\n",
       "      <th>joined</th>\n",
       "      <th>joined_year</th>\n",
       "      <th>joined_month</th>\n",
       "      <th>joined_day</th>\n",
       "    </tr>\n",
       "  </thead>\n",
       "  <tbody>\n",
       "    <tr>\n",
       "      <th>0</th>\n",
       "      <td>2004-07-01</td>\n",
       "      <td>2004.0</td>\n",
       "      <td>7.0</td>\n",
       "      <td>1.0</td>\n",
       "    </tr>\n",
       "    <tr>\n",
       "      <th>1</th>\n",
       "      <td>2018-07-10</td>\n",
       "      <td>2018.0</td>\n",
       "      <td>7.0</td>\n",
       "      <td>10.0</td>\n",
       "    </tr>\n",
       "    <tr>\n",
       "      <th>2</th>\n",
       "      <td>2014-07-16</td>\n",
       "      <td>2014.0</td>\n",
       "      <td>7.0</td>\n",
       "      <td>16.0</td>\n",
       "    </tr>\n",
       "    <tr>\n",
       "      <th>3</th>\n",
       "      <td>2014-07-01</td>\n",
       "      <td>2014.0</td>\n",
       "      <td>7.0</td>\n",
       "      <td>1.0</td>\n",
       "    </tr>\n",
       "    <tr>\n",
       "      <th>4</th>\n",
       "      <td>2017-08-03</td>\n",
       "      <td>2017.0</td>\n",
       "      <td>8.0</td>\n",
       "      <td>3.0</td>\n",
       "    </tr>\n",
       "  </tbody>\n",
       "</table>\n",
       "</div>"
      ],
      "text/plain": [
       "      joined  joined_year  joined_month  joined_day\n",
       "0 2004-07-01       2004.0           7.0         1.0\n",
       "1 2018-07-10       2018.0           7.0        10.0\n",
       "2 2014-07-16       2014.0           7.0        16.0\n",
       "3 2014-07-01       2014.0           7.0         1.0\n",
       "4 2017-08-03       2017.0           8.0         3.0"
      ]
     },
     "execution_count": 5,
     "metadata": {},
     "output_type": "execute_result"
    }
   ],
   "source": [
    "# Convert 'joined' column into datatime, \n",
    "df['joined'] = pd.to_datetime(df['joined'], errors='coerce')\n",
    "\n",
    "# then extract the year, month, and day into 3 separate cols\n",
    "df['joined_year'] = df['joined'].dt.year\n",
    "df['joined_month'] = df['joined'].dt.month\n",
    "df['joined_day'] = df['joined'].dt.day\n",
    "\n",
    "# Display the results\n",
    "df[['joined', 'joined_year', 'joined_month', 'joined_day']].head()"
   ]
  },
  {
   "cell_type": "code",
   "execution_count": 6,
   "id": "6f7eb087-2b7d-48ed-bea9-306ef03920df",
   "metadata": {},
   "outputs": [
    {
     "data": {
      "text/plain": [
       "value_eur               int64\n",
       "wage_eur                int64\n",
       "release_clause_eur    float64\n",
       "dtype: object"
      ]
     },
     "execution_count": 6,
     "metadata": {},
     "output_type": "execute_result"
    }
   ],
   "source": [
    "# Check datatype of 'value, wage, release clause' cols\n",
    "df[['value_eur', 'wage_eur', 'release_clause_eur']].dtypes"
   ]
  },
  {
   "cell_type": "code",
   "execution_count": 7,
   "id": "6d568d2b-4c21-4c6e-9bf2-08726aa8a20e",
   "metadata": {},
   "outputs": [
    {
     "data": {
      "text/plain": [
       "release_clause_eur    int64\n",
       "dtype: object"
      ]
     },
     "execution_count": 7,
     "metadata": {},
     "output_type": "execute_result"
    }
   ],
   "source": [
    "# Convert float to int\n",
    "df['release_clause_eur'] = df['release_clause_eur'].fillna(0).astype(int)\n",
    "\n",
    "# Verify the change\n",
    "df[['release_clause_eur']].dtypes"
   ]
  },
  {
   "cell_type": "code",
   "execution_count": 8,
   "id": "ea5dfcc3-4e8f-4327-8128-bdad76aabd1e",
   "metadata": {},
   "outputs": [
    {
     "data": {
      "text/html": [
       "<div>\n",
       "<style scoped>\n",
       "    .dataframe tbody tr th:only-of-type {\n",
       "        vertical-align: middle;\n",
       "    }\n",
       "\n",
       "    .dataframe tbody tr th {\n",
       "        vertical-align: top;\n",
       "    }\n",
       "\n",
       "    .dataframe thead th {\n",
       "        text-align: right;\n",
       "    }\n",
       "</style>\n",
       "<table border=\"1\" class=\"dataframe\">\n",
       "  <thead>\n",
       "    <tr style=\"text-align: right;\">\n",
       "      <th></th>\n",
       "      <th>value_eur</th>\n",
       "      <th>wage_eur</th>\n",
       "      <th>release_clause_eur</th>\n",
       "    </tr>\n",
       "  </thead>\n",
       "  <tbody>\n",
       "    <tr>\n",
       "      <th>0</th>\n",
       "      <td>67500000</td>\n",
       "      <td>560000</td>\n",
       "      <td>138400000</td>\n",
       "    </tr>\n",
       "    <tr>\n",
       "      <th>1</th>\n",
       "      <td>46000000</td>\n",
       "      <td>220000</td>\n",
       "      <td>75900000</td>\n",
       "    </tr>\n",
       "    <tr>\n",
       "      <th>2</th>\n",
       "      <td>75000000</td>\n",
       "      <td>125000</td>\n",
       "      <td>159400000</td>\n",
       "    </tr>\n",
       "    <tr>\n",
       "      <th>3</th>\n",
       "      <td>80000000</td>\n",
       "      <td>240000</td>\n",
       "      <td>132000000</td>\n",
       "    </tr>\n",
       "    <tr>\n",
       "      <th>4</th>\n",
       "      <td>90000000</td>\n",
       "      <td>270000</td>\n",
       "      <td>166500000</td>\n",
       "    </tr>\n",
       "  </tbody>\n",
       "</table>\n",
       "</div>"
      ],
      "text/plain": [
       "   value_eur  wage_eur  release_clause_eur\n",
       "0   67500000    560000           138400000\n",
       "1   46000000    220000            75900000\n",
       "2   75000000    125000           159400000\n",
       "3   80000000    240000           132000000\n",
       "4   90000000    270000           166500000"
      ]
     },
     "execution_count": 8,
     "metadata": {},
     "output_type": "execute_result"
    }
   ],
   "source": [
    "# Display the results of the 3 cols\n",
    "df[['value_eur', 'wage_eur', 'release_clause_eur']].head()"
   ]
  },
  {
   "cell_type": "code",
   "execution_count": 9,
   "id": "7ee8ff4c-e7e4-44d8-92b2-eed340352cb6",
   "metadata": {},
   "outputs": [
    {
     "data": {
      "text/plain": [
       "dtype('float64')"
      ]
     },
     "execution_count": 9,
     "metadata": {},
     "output_type": "execute_result"
    }
   ],
   "source": [
    "df['contract_valid_until'].dtypes"
   ]
  },
  {
   "cell_type": "code",
   "execution_count": 10,
   "id": "19689cfe-7e69-44f9-a702-f681c98ddb7e",
   "metadata": {},
   "outputs": [],
   "source": [
    "# Convert to int\n",
    "df['contract_valid_until'] = df['contract_valid_until'].fillna(0).astype(int)"
   ]
  },
  {
   "cell_type": "code",
   "execution_count": 11,
   "id": "f3672230-a49d-462d-a12b-ce3fdf189925",
   "metadata": {},
   "outputs": [
    {
     "data": {
      "text/plain": [
       "sofifa_id         0\n",
       "player_url        0\n",
       "short_name        0\n",
       "long_name         0\n",
       "age               0\n",
       "               ... \n",
       "rcb               0\n",
       "rb                0\n",
       "joined_year     983\n",
       "joined_month    983\n",
       "joined_day      983\n",
       "Length: 109, dtype: int64"
      ]
     },
     "execution_count": 11,
     "metadata": {},
     "output_type": "execute_result"
    }
   ],
   "source": [
    "# Check if there's missing values in the dataset\n",
    "missing_values = df.isnull().sum()\n",
    "missing_values"
   ]
  },
  {
   "cell_type": "code",
   "execution_count": null,
   "id": "76a9d825-d660-456c-b008-96fc3842b77b",
   "metadata": {},
   "outputs": [],
   "source": []
  },
  {
   "cell_type": "markdown",
   "id": "82d7c932-dec5-4ddf-a15c-1807867184fe",
   "metadata": {},
   "source": [
    "## Physical Factors vs Performance\n",
    "- How do Weight and Age affect Soccer players performance?"
   ]
  },
  {
   "cell_type": "code",

   "execution_count": 14,
   "id": "ee8249de-e7b0-487c-a513-13694a519f5f",

   "metadata": {},
   "outputs": [
    {
     "data": {
      "text/html": [
       "<div>\n",
       "<style scoped>\n",
       "    .dataframe tbody tr th:only-of-type {\n",
       "        vertical-align: middle;\n",
       "    }\n",
       "\n",
       "    .dataframe tbody tr th {\n",
       "        vertical-align: top;\n",
       "    }\n",
       "\n",
       "    .dataframe thead th {\n",
       "        text-align: right;\n",
       "    }\n",
       "</style>\n",
       "<table border=\"1\" class=\"dataframe\">\n",
       "  <thead>\n",
       "    <tr style=\"text-align: right;\">\n",
       "      <th></th>\n",
       "      <th>weight_kg</th>\n",
       "      <th>overall</th>\n",
       "    </tr>\n",
       "    <tr>\n",
       "      <th>short_name</th>\n",
       "      <th></th>\n",
       "      <th></th>\n",
       "    </tr>\n",
       "  </thead>\n",
       "  <tbody>\n",
       "    <tr>\n",
       "      <th>L. Messi</th>\n",
       "      <td>72</td>\n",
       "      <td>93</td>\n",
       "    </tr>\n",
       "    <tr>\n",
       "      <th>Cristiano Ronaldo</th>\n",
       "      <td>83</td>\n",
       "      <td>92</td>\n",
       "    </tr>\n",
       "    <tr>\n",
       "      <th>J. Oblak</th>\n",
       "      <td>87</td>\n",
       "      <td>91</td>\n",
       "    </tr>\n",
       "    <tr>\n",
       "      <th>R. Lewandowski</th>\n",
       "      <td>80</td>\n",
       "      <td>91</td>\n",
       "    </tr>\n",
       "    <tr>\n",
       "      <th>Neymar Jr</th>\n",
       "      <td>68</td>\n",
       "      <td>91</td>\n",
       "    </tr>\n",
       "    <tr>\n",
       "      <th>...</th>\n",
       "      <td>...</td>\n",
       "      <td>...</td>\n",
       "    </tr>\n",
       "    <tr>\n",
       "      <th>K. Angulo</th>\n",
       "      <td>73</td>\n",
       "      <td>47</td>\n",
       "    </tr>\n",
       "    <tr>\n",
       "      <th>Zhang Mengxuan</th>\n",
       "      <td>70</td>\n",
       "      <td>47</td>\n",
       "    </tr>\n",
       "    <tr>\n",
       "      <th>Wang Zhenghao</th>\n",
       "      <td>74</td>\n",
       "      <td>47</td>\n",
       "    </tr>\n",
       "    <tr>\n",
       "      <th>Chen Zitong</th>\n",
       "      <td>80</td>\n",
       "      <td>47</td>\n",
       "    </tr>\n",
       "    <tr>\n",
       "      <th>Song Yue</th>\n",
       "      <td>79</td>\n",
       "      <td>47</td>\n",
       "    </tr>\n",
       "  </tbody>\n",
       "</table>\n",
       "<p>18944 rows × 2 columns</p>\n",
       "</div>"
      ],
      "text/plain": [
       "                   weight_kg  overall\n",
       "short_name                           \n",
       "L. Messi                  72       93\n",
       "Cristiano Ronaldo         83       92\n",
       "J. Oblak                  87       91\n",
       "R. Lewandowski            80       91\n",
       "Neymar Jr                 68       91\n",
       "...                      ...      ...\n",
       "K. Angulo                 73       47\n",
       "Zhang Mengxuan            70       47\n",
       "Wang Zhenghao             74       47\n",
       "Chen Zitong               80       47\n",
       "Song Yue                  79       47\n",
       "\n",
       "[18944 rows x 2 columns]"
      ]
     },
     "execution_count": 12,
     "metadata": {},
     "output_type": "execute_result"
    }
   ],
   "source": [
    "# Create a data frame for weight and overall performance for each player\n",
    "df_weight = df.set_index('short_name')[['weight_kg', 'overall']]\n",
    "df_weight"
   ]
  },
  {
   "cell_type": "code",
   "execution_count": 13,
   "id": "1c8c2a88-940e-469a-8dc1-750977db7c93",
   "metadata": {},
   "outputs": [
    {
     "data": {
      "image/png": "[encoded data removed]",
      "text/plain": [
       "<Figure size 1000x600 with 1 Axes>"
      ]
     },
     "metadata": {},
     "output_type": "display_data"
    }
   ],
   "source": [

    "# Create a scatter plot for 'weight_kg' vs 'overall performance'\n",
    "plt.figure(figsize=(10, 6))\n",
    "plt.scatter(df_weight['weight_kg'], df_weight['overall'], color='blue', alpha=0.5)\n",
    "\n",
    "plt.xlabel('Weight (kg)')\n",
    "plt.ylabel('Overall Performance')\n",
    "plt.title('Scatter Plot of Player Weight vs Overall Performance')\n",
    "\n",
    "#Draw a Regression line\n",
    "slope, intercept, r_value, p_value, std_err = linregress(df_weight['weight_kg'], df_weight['overall'])\n",
    "regression_line = slope * df_weight['weight_kg'] + intercept\n",
    "plt.plot(df_weight['weight_kg'], regression_line, color='red', label=f'Line: y={slope:.2f}x + {intercept:.2f}')\n",
    "\n",
    "plt.text(0.1, 0.9, f'y = {slope:.2f}x + {intercept:.2f}\\n$R^2$ = {r_value**2:.2f}', \n",
    "         transform=plt.gca().transAxes, color='red', fontsize=12)\n",
    "plt.legend()\n",
    "plt.show()"

  
   ]
  },
  {
   "cell_type": "code",

   "execution_count": 14,
   "id": "e0a6da77-04d2-4e7e-8512-60de0c5e028d",

   "metadata": {},
   "outputs": [
    {
     "data": {
      "text/plain": [
       "<Figure size 640x480 with 0 Axes>"
      ]
     },
     "metadata": {},
     "output_type": "display_data"
    }
   ],
   "source": [

    "plt.savefig('weight_scatter_plot.png')"

   ]
  },
  {
   "cell_type": "code",
   "execution_count": 15,
   "id": "ccd22949-e256-4f35-a293-fd42976a2da3",
   "metadata": {},
   "outputs": [
    {
     "data": {
      "text/html": [
       "<div>\n",
       "<style scoped>\n",
       "    .dataframe tbody tr th:only-of-type {\n",
       "        vertical-align: middle;\n",
       "    }\n",
       "\n",
       "    .dataframe tbody tr th {\n",
       "        vertical-align: top;\n",
       "    }\n",
       "\n",
       "    .dataframe thead th {\n",
       "        text-align: right;\n",
       "    }\n",
       "</style>\n",
       "<table border=\"1\" class=\"dataframe\">\n",
       "  <thead>\n",
       "    <tr style=\"text-align: right;\">\n",
       "      <th></th>\n",
       "      <th>age</th>\n",
       "      <th>overall</th>\n",
       "    </tr>\n",
       "    <tr>\n",
       "      <th>short_name</th>\n",
       "      <th></th>\n",
       "      <th></th>\n",
       "    </tr>\n",
       "  </thead>\n",
       "  <tbody>\n",
       "    <tr>\n",
       "      <th>L. Messi</th>\n",
       "      <td>33</td>\n",
       "      <td>93</td>\n",
       "    </tr>\n",
       "    <tr>\n",
       "      <th>Cristiano Ronaldo</th>\n",
       "      <td>35</td>\n",
       "      <td>92</td>\n",
       "    </tr>\n",
       "    <tr>\n",
       "      <th>J. Oblak</th>\n",
       "      <td>27</td>\n",
       "      <td>91</td>\n",
       "    </tr>\n",
       "    <tr>\n",
       "      <th>R. Lewandowski</th>\n",
       "      <td>31</td>\n",
       "      <td>91</td>\n",
       "    </tr>\n",
       "    <tr>\n",
       "      <th>Neymar Jr</th>\n",
       "      <td>28</td>\n",
       "      <td>91</td>\n",
       "    </tr>\n",
       "    <tr>\n",
       "      <th>...</th>\n",
       "      <td>...</td>\n",
       "      <td>...</td>\n",
       "    </tr>\n",
       "    <tr>\n",
       "      <th>K. Angulo</th>\n",
       "      <td>24</td>\n",
       "      <td>47</td>\n",
       "    </tr>\n",
       "    <tr>\n",
       "      <th>Zhang Mengxuan</th>\n",
       "      <td>21</td>\n",
       "      <td>47</td>\n",
       "    </tr>\n",
       "    <tr>\n",
       "      <th>Wang Zhenghao</th>\n",
       "      <td>20</td>\n",
       "      <td>47</td>\n",
       "    </tr>\n",
       "    <tr>\n",
       "      <th>Chen Zitong</th>\n",
       "      <td>23</td>\n",
       "      <td>47</td>\n",
       "    </tr>\n",
       "    <tr>\n",
       "      <th>Song Yue</th>\n",
       "      <td>28</td>\n",
       "      <td>47</td>\n",
       "    </tr>\n",
       "  </tbody>\n",
       "</table>\n",
       "<p>18944 rows × 2 columns</p>\n",
       "</div>"
      ],
      "text/plain": [
       "                   age  overall\n",
       "short_name                     \n",
       "L. Messi            33       93\n",
       "Cristiano Ronaldo   35       92\n",
       "J. Oblak            27       91\n",
       "R. Lewandowski      31       91\n",
       "Neymar Jr           28       91\n",
       "...                ...      ...\n",
       "K. Angulo           24       47\n",
       "Zhang Mengxuan      21       47\n",
       "Wang Zhenghao       20       47\n",
       "Chen Zitong         23       47\n",
       "Song Yue            28       47\n",
       "\n",
       "[18944 rows x 2 columns]"
      ]
     },
     "execution_count": 15,
     "metadata": {},
     "output_type": "execute_result"
    }
   ],
   "source": [
    "# Create a data frame for age and overall performance for each player\n",
    "df_age = df.set_index('short_name')[['age', 'overall']]\n",
    "df_age"
   ]
  },
  {
   "cell_type": "code",
   "execution_count": 16,
   "id": "83d99f83-25f1-4c65-8fd9-0a707f581261",
   "metadata": {},
   "outputs": [
    {
     "data": {
      "image/png": "[encoded data removed]",
      "text/plain": [
       "<Figure size 1000x600 with 1 Axes>"
      ]
     },
     "metadata": {},
     "output_type": "display_data"
    }
   ],
   "source": [
    "# Create a scatter plot for 'age' vs 'overall performance'\n",
    "plt.figure(figsize=(10, 6))\n",
    "plt.scatter(df_age['age'], df_age['overall'], color='blue', alpha=0.5)\n",
    "\n",
    "plt.xlabel('Age')\n",
    "plt.ylabel('Overall Performance')\n",
    "plt.title('Scatter Plot of Player Age vs Overall Performance')\n",
    "\n",
    "#Draw a Regression line\n",
    "slope, intercept, r_value, p_value, std_err = linregress(df_age['age'], df_age['overall'])\n",
    "regression_line = slope * df_age['age'] + intercept\n",
    "plt.plot(df_age['age'], regression_line, color='red', label=f'Line: y={slope:.2f}x + {intercept:.2f}')\n",
    "\n",
    "plt.text(0.1, 0.9, f'y = {slope:.2f}x + {intercept:.2f}\\n$R^2$ = {r_value**2:.2f}', \n",
    "          transform=plt.gca().transAxes, color='red', fontsize=12)\n",
    "plt.legend()\n",
    "plt.show()"
   ]
  },
  {
   "cell_type": "code",

   "execution_count": 17,
   "id": "70dca0b3-9e5c-41f6-a288-63383e34ccec",

   "metadata": {},
   "outputs": [
    {
     "data": {

      "text/plain": [
       "<Figure size 640x480 with 0 Axes>"

      ]
     },
     "metadata": {},
     "output_type": "display_data"
    }
   ],

   "source": [
    "plt.savefig('weight_scatter_plot.png')"

   ]
  },
  {
   "cell_type": "code",

   "execution_count": 18,
   "id": "9a44c9ed-8650-4815-b6dc-fc0c87b4958e",
   "metadata": {},
   "outputs": [
    {
     "name": "stdout",
     "output_type": "stream",
     "text": [
      "mean = 75.01689189189189\n",
      "median = 75.0\n",
      "mode = ModeResult(mode=70, count=1510)\n"
     ]
    }
   ],
   "source": [
    "#Find mean, median and mode for Weight:\n",
    "Wmean = np.mean(df_weight['weight_kg'])\n",
    "Wmedian = np.median(df_weight['weight_kg'])\n",
    "Wmode = st.mode(df_weight['weight_kg'])\n",
    "print(f\"mean = {Wmean}\")\n",
    "print(f\"median = {Wmedian}\")\n",
    "print(f\"mode = {Wmode}\")"
   ]
  },
  {
   "cell_type": "code",
   "execution_count": 19,
   "id": "cdda03e1-1a74-483f-993d-a78ed1428665",
   "metadata": {},
   "outputs": [
    {
     "data": {
      "text/plain": [
       "<function matplotlib.pyplot.show(close=None, block=None)>"
      ]
     },
     "execution_count": 19,
     "metadata": {},
     "output_type": "execute_result"
    },
    {
     "data": {
      "image/png": "[encoded data removed]",
      "text/plain": [
       "<Figure size 640x480 with 1 Axes>"
      ]
     },
     "metadata": {},
     "output_type": "display_data"
    }
   ],
   "source": [
    "#Create a histogram to visualize the data\n",
    "plt.hist(df_weight['weight_kg'])\n",
    "plt.xlabel('Weight')\n",
    "plt.show"
   ]
  },
  {
   "cell_type": "code",
   "execution_count": 20,
   "id": "722c992b-4933-4a5f-93ef-feb1fc1dedbd",
   "metadata": {},
   "outputs": [
    {
     "data": {
      "text/plain": [
       "<Figure size 640x480 with 0 Axes>"
      ]
     },
     "metadata": {},
     "output_type": "display_data"
    }
   ],
   "source": [
    "plt.savefig('weight_histogram.png')"
   ]
  },
  {
   "cell_type": "code",
   "execution_count": 21,
   "id": "85720ffe-f603-42b6-941a-6af8a31afc0e",
   "metadata": {},
   "outputs": [
    {
     "name": "stdout",
     "output_type": "stream",
     "text": [
      "NormaltestResult(statistic=12.044524341213188, pvalue=0.0024241794800126657)\n"
     ]
    }
   ],
   "source": [
    "#Test for normality\n",
    "print(st.normaltest(df_weight['weight_kg'].sample(500)))"
   ]
  },
  {
   "cell_type": "code",
   "execution_count": 22,
   "id": "764a7660-aa76-45ed-9964-886fe09eac38",
   "metadata": {},
   "outputs": [
    {
     "name": "stdout",
     "output_type": "stream",
     "text": [
      "Variance: 49.800601488312644, Standard Deviation: 7.056954122588062\n"
     ]
    }
   ],
   "source": [
    "#Calculate Variance and Stantard Deviation for Weight\n",
    "WVariance = np.var(df_weight['weight_kg'])\n",
    "Wstd = np.std(df_weight['weight_kg'])\n",
    "print(f\"Variance: {WVariance}, Standard Deviation: {Wstd}\")"
   ]
  },
  {
   "cell_type": "code",
   "execution_count": 23,
   "id": "55bc29d0-886b-4990-a8e6-78505422e4c1",
   "metadata": {},
   "outputs": [
    {
     "name": "stdout",
     "output_type": "stream",
     "text": [
      "std-1: 67.96\n",
      "std-2: 60.903\n",
      "std-3: 53.846\n",
      "std+1: 82.074\n",
      "std+2: 89.131\n",
      "std+3: 96.188\n"
     ]
    }
   ],
   "source": [
    "#Find the Standard deviations distribution along the weight curve\n",
    "wstd_minus_1 = round(Wmean - Wstd,3)\n",
    "wstd_minus_2 = round(Wmean - 2 * Wstd,3)\n",
    "wstd_minus_3 = round(Wmean - 3 * Wstd,3)\n",
    "wstd_plus_1 = round(Wmean + Wstd,3)\n",
    "wstd_plus_2 = round(Wmean + 2 * Wstd,3)\n",
    "wstd_plus_3 = round(Wmean + 3 * Wstd,3)\n",
    "print(\"std-1:\", wstd_minus_1)\n",
    "print(\"std-2:\", wstd_minus_2)\n",
    "print(\"std-3:\", wstd_minus_3)\n",
    "print(\"std+1:\", wstd_plus_1)\n",
    "print(\"std+2:\", wstd_plus_2)\n",
    "print(\"std+3:\", wstd_plus_3)"
   ]
  },
  {
   "cell_type": "code",
   "execution_count": 24,
   "id": "46b55120-d110-45ee-a67e-3bada794cbe1",
   "metadata": {},
   "outputs": [
    {
     "data": {
      "image/png": "[encoded data removed]",
      "text/plain": [
       "<Figure size 640x480 with 1 Axes>"
      ]
     },
     "metadata": {},
     "output_type": "display_data"
    }
   ],
   "source": [
    "#Graph a Weight Box Plot to visually identify outliers\n",
    "weight_sample = df_weight['weight_kg']\n",
    "fig1, ax1 = plt.subplots()\n",
    "ax1.set_title('Weight Box Plot')\n",
    "ax1.set_ylabel('Weight Outliers')\n",
    "ax1.boxplot(weight_sample)\n",
    "plt.show()"
   ]
  },
  {
   "cell_type": "code",
   "execution_count": 25,
   "id": "071ef469-88c7-4db6-ad9e-5e38ae3436fc",
   "metadata": {},
   "outputs": [
    {
     "data": {
      "text/plain": [
       "<Figure size 640x480 with 0 Axes>"
      ]
     },
     "metadata": {},
     "output_type": "display_data"
    }
   ],
   "source": [
    "plt.savefig('weight_boxplot.png')"
   ]
  },
  {
   "cell_type": "code",
   "execution_count": 26,
   "id": "559679b6-471c-4e4e-9312-dff8ee1bf4ec",
   "metadata": {},
   "outputs": [
    {
     "name": "stdout",
     "output_type": "stream",
     "text": [
      "Lower Quartile: 70.0, Median: 75.0, Upper Quartile: 80.0\n",
      "Weight IQR: 10.0\n",
      "Weight Lower Bound: 55.0, Weight Upper bound: 95.0\n"
     ]
    }
   ],
   "source": [
    "#Identify Outliers:\n",
    "\n",
    "Wquartiles = df_weight['weight_kg'].quantile([.25,.5,.75])\n",
    "Wlowerq = Wquartiles[.25]\n",
    "Wmedian = Wquartiles[.5]\n",
    "Wupperq = Wquartiles[.75]\n",
    "print(f\"Lower Quartile: {Wlowerq}, Median: {Wmedian}, Upper Quartile: {Wupperq}\")\n",
    "weight_IQR = Wupperq - Wlowerq\n",
    "print(f\"Weight IQR: {weight_IQR}\")\n",
    "w_lower_bound = Wlowerq - 1.5 * weight_IQR\n",
    "w_upper_bound = Wupperq + 1.5 * weight_IQR\n",
    "print(f\"Weight Lower Bound: {w_lower_bound}, Weight Upper bound: {w_upper_bound}\")"
   ]
  },
  {
   "cell_type": "code",
   "execution_count": 27,
   "id": "37197fbc-b8bd-4663-8bda-07e7e5627835",
   "metadata": {},
   "outputs": [
    {
     "data": {
      "text/plain": [
       "110"
      ]
     },
     "execution_count": 27,
     "metadata": {},
     "output_type": "execute_result"
    }
   ],
   "source": [
    "#Maximum weight\n",
    "df_weight['weight_kg'].max()"
   ]
  },
  {
   "cell_type": "code",
   "execution_count": 28,
   "id": "cd580ff6-b110-48d9-aeac-cf77930d8413",
   "metadata": {},
   "outputs": [
    {
     "data": {
      "text/plain": [
       "50"
      ]
     },
     "execution_count": 28,
     "metadata": {},
     "output_type": "execute_result"
    }
   ],
   "source": [
    "#Minimum weight\n",
    "df_weight['weight_kg'].min()"
   ]
  },
  {
   "cell_type": "code",
   "execution_count": 29,
   "id": "d7804a81-58df-465a-90c7-a9a290fdc154",
   "metadata": {},
   "outputs": [
    {
     "name": "stdout",
     "output_type": "stream",
     "text": [
      "mean = 25.22582347972973\n",
      "median = 25.0\n",
      "mode = ModeResult(mode=23, count=1473)\n"
     ]
    }
   ],
   "source": [
    "#Find mean, median and mode for Age:\n",
    "Amean = np.mean(df_age['age'])\n",
    "Amedian = np.median(df_age['age'])\n",
    "Amode = st.mode(df_age['age'])\n",
    "print(f\"mean = {Amean}\")\n",
    "print(f\"median = {Amedian}\")\n",
    "print(f\"mode = {Amode}\")"
   ]
  },
  {
   "cell_type": "code",
   "execution_count": 30,
   "id": "8e3bc0d3-9877-4f14-b7cf-9dbf8492c6da",
   "metadata": {},
   "outputs": [
    {
     "data": {
      "text/plain": [
       "<function matplotlib.pyplot.show(close=None, block=None)>"
      ]
     },
     "execution_count": 30,
     "metadata": {},
     "output_type": "execute_result"
    },
    {
     "data": {
      "image/png": "[encoded data removed]",
      "text/plain": [
       "<Figure size 640x480 with 1 Axes>"
      ]
     },
     "metadata": {},
     "output_type": "display_data"
    }
   ],
   "source": [
    "#Create a histogram to visualize the data\n",
    "plt.hist(df_age['age'])\n",
    "plt.xlabel('Age')\n",
    "plt.show"
   ]
  },
  {
   "cell_type": "code",
   "execution_count": 31,
   "id": "eb7ed56c-e27e-43dd-85c4-c24d510d7401",
   "metadata": {},
   "outputs": [
    {
     "data": {
      "text/plain": [
       "<Figure size 640x480 with 0 Axes>"
      ]
     },
     "metadata": {},
     "output_type": "display_data"
    }
   ],
   "source": [
    "plt.savefig('age_histogram.png')"
   ]
  },
  {
   "cell_type": "code",
   "execution_count": 32,
   "id": "c343ce54-53ce-4b34-bbeb-9342c7872389",
   "metadata": {},
   "outputs": [
    {
     "name": "stdout",
     "output_type": "stream",
     "text": [
      "NormaltestResult(statistic=23.996802636413065, pvalue=6.1540428495766395e-06)\n"
     ]
    }
   ],
   "source": [
    "#Test for normality\n",
    "print(st.normaltest(df_age['age'].sample(500)))"
   ]
  },
  {
   "cell_type": "code",
   "execution_count": 33,
   "id": "31875f73-efaa-4030-be7c-d6cbce71dec0",
   "metadata": {},
   "outputs": [
    {
     "name": "stdout",
     "output_type": "stream",
     "text": [
      "Variance: 22.063974195191946, Standard Deviation: 4.697230481378569\n"
     ]
    }
   ],
   "source": [
    "#Calculate Variance and Stantard Deviation for Weight\n",
    "AVariance = np.var(df_age['age'])\n",
    "Astd = np.std(df_age['age'])\n",
    "print(f\"Variance: {AVariance}, Standard Deviation: {Astd}\")"
   ]
  },
  {
   "cell_type": "code",
   "execution_count": 34,
   "id": "be185efc-e69a-4c19-a242-161634324664",
   "metadata": {},
   "outputs": [
    {
     "name": "stdout",
     "output_type": "stream",
     "text": [
      "std-1: 20.529\n",
      "std-2: 15.831\n",
      "std-3: 11.134\n",
      "std+1: 29.923\n",
      "std+2: 34.62\n",
      "std+3: 39.318\n"
     ]
    }
   ],
   "source": [
    "#Find the Standard deviations distribution along the  age curve\n",
    "astd_minus_1 = round(Amean - Astd,3)\n",
    "astd_minus_2 = round(Amean - 2 * Astd,3)\n",
    "astd_minus_3 = round(Amean - 3 * Astd,3)\n",
    "astd_plus_1 = round(Amean + Astd,3)\n",
    "astd_plus_2 = round(Amean + 2 * Astd,3)\n",
    "astd_plus_3 = round(Amean + 3 * Astd,3)\n",
    "print(\"std-1:\", astd_minus_1)\n",
    "print(\"std-2:\", astd_minus_2)\n",
    "print(\"std-3:\", astd_minus_3)\n",
    "print(\"std+1:\", astd_plus_1)\n",
    "print(\"std+2:\", astd_plus_2)\n",
    "print(\"std+3:\", astd_plus_3)"
   ]
  },
  {
   "cell_type": "code",
   "execution_count": 35,
   "id": "14451d49-f092-4df8-bb20-d9e542d54bf3",
   "metadata": {},
   "outputs": [
    {
     "data": {
      "image/png": "[encoded data removed]",
      "text/plain": [
       "<Figure size 640x480 with 1 Axes>"
      ]
     },
     "metadata": {},
     "output_type": "display_data"
    }
   ],
   "source": [
    "#Graph an Age Box Plot to visually identify outliers\n",
    "age_sample = df_age['age']\n",
    "fig1, ax1 = plt.subplots()\n",
    "ax1.set_title('Age Box Plot')\n",
    "ax1.set_ylabel('Age Outliers')\n",
    "ax1.boxplot(age_sample)\n",
    "plt.show()"
   ]
  },
  {
   "cell_type": "code",
   "execution_count": 36,
   "id": "4ced309b-ea02-4b80-b676-a1310b4e7cd5",
   "metadata": {},
   "outputs": [
    {
     "data": {
      "text/plain": [
       "<Figure size 640x480 with 0 Axes>"
      ]
     },
     "metadata": {},
     "output_type": "display_data"
    }
   ],
   "source": [
    "plt.savefig('age_boxplot.png')"
   ]
  },
  {
   "cell_type": "code",
   "execution_count": 37,
   "id": "a9131ace-e18e-4ee8-80a2-bfc9110d7e00",
   "metadata": {},
   "outputs": [
    {
     "name": "stdout",
     "output_type": "stream",
     "text": [
      "Lower Quartile: 21.0, Median: 25.0, Upper Quartile: 29.0\n",
      "Age IQR: 8.0\n",
      "Age Lower Bound: 9.0, Age Upper bound: 41.0\n"
     ]
    }
   ],
   "source": [
    "#Identify Outliers:\n",
    "\n",
    "Aquartiles = df_age['age'].quantile([.25,.5,.75])\n",
    "Alowerq = Aquartiles[.25]\n",
    "Amedian = Aquartiles[.5]\n",
    "Aupperq = Aquartiles[.75]\n",
    "print(f\"Lower Quartile: {Alowerq}, Median: {Amedian}, Upper Quartile: {Aupperq}\")\n",
    "age_IQR = Aupperq - Alowerq\n",
    "print(f\"Age IQR: {age_IQR}\")\n",
    "a_lower_bound = Alowerq - 1.5 * age_IQR\n",
    "a_upper_bound = Aupperq + 1.5 * age_IQR\n",
    "print(f\"Age Lower Bound: {a_lower_bound}, Age Upper bound: {a_upper_bound}\")"
   ]
  },
  {
   "cell_type": "code",
   "execution_count": 38,
   "id": "a9ba0197-d747-4022-ad70-adc67c9cd543",
   "metadata": {},
   "outputs": [
    {
     "data": {
      "text/plain": [
       "53"
      ]
     },
     "execution_count": 38,
     "metadata": {},
     "output_type": "execute_result"
    }
   ],
   "source": [
    "#Maximum age\n",
    "df_age['age'].max()"
   ]
  },
  {
   "cell_type": "code",
   "execution_count": 39,
   "id": "f7d38734-2829-4b07-88f0-d782753ea186",
   "metadata": {},
   "outputs": [
    {
     "data": {
      "text/plain": [
       "16"
      ]
     },
     "execution_count": 39,
     "metadata": {},
     "output_type": "execute_result"
    }
   ],
   "source": [
    "#Minimum age\n",
    "df_age['age'].min()"
   ]
  },
  {
   "cell_type": "code",
   "execution_count": null,
   "id": "ebdaa28c-78a4-4c71-883a-baee1f4c3b92",

   "metadata": {},
   "outputs": [],
   "source": [
    "import statsmodels.api as sm\n",
    "from statsmodels.stats.multicomp import pairwise_tukeyhsd\n",
    "\n",
    "# Perform Tukey's HSD test\n",
    "tukey = pairwise_tukeyhsd(endog=df['overall'],    \n",
    "                          groups=df['work_rate'],  \n",
    "                          alpha=0.05)            \n",
    "\n",
    "# Display the test results\n",
    "print(tukey)\n"
   ]
  },
  {
   "cell_type": "code",
   "execution_count": null,
   "id": "bc6952fa-5049-4ffc-8f5c-1620da7ef1fd",
   "metadata": {},
   "outputs": [],
   "source": [
    "# Create a new column 'contract length' as the difference between 'contract_valid_until' and 'joined_year'\n",
    "contract_df = df[['overall', 'joined_year', 'contract_valid_until']].copy()\n",
    "contract_df['contract length'] = (contract_df['contract_valid_until'] - contract_df['joined_year'] + 1)\n",
    "contract_df_clean = contract_df.dropna()"
   ]
  },
  {
   "cell_type": "code",
   "execution_count": null,
   "id": "337e0157-2b03-4dd4-ab1c-2231502f1c5d",
   "metadata": {},
   "outputs": [],
   "source": [
    "#Calculate the Analysis\n",
    "minimum_2 = contract_df_clean['contract length'].min()\n",
    "Q1_2 = contract_df_clean['contract length'].quantile(0.25)\n",
    "median_2 = contract_df_clean['contract length'].median()\n",
    "Q3_2 = contract_df_clean['contract length'].quantile(0.75)\n",
    "maximum_2 = contract_df_clean['contract length'].max()\n",
    "\n",
    "#Create a dictionary for the DFs\n",
    "\n",
    "analysis_of_contract = {\n",
    "    'Minimum': minimum_2,\n",
    "    'Q1 (25th Percentile)': Q1_2,\n",
    "    'Median (50th Percentile)': median_2,\n",
    "    'Q3 (75th Percentile)': Q3_2,\n",
    "    'Maximum': maximum_2\n",
    "}\n",
    "\n",
    "# Create a DataFrame from the dictionary\n",
    "analysis_of_contract_df = pd.DataFrame(analysis_of_contract, index=[0])\n",
    "\n",
    "# Display the DataFrame\n",
    "display(analysis_of_contract_df)\n"
   ]
  },
  {
   "cell_type": "code",
   "execution_count": null,
   "id": "0e8b4912-79ed-491d-b78a-d99c2f9c4412",
   "metadata": {},
   "outputs": [],
   "source": [
    "plt.boxplot(contract_df_clean['contract length'])  \n",
    "\n",
    "# Add titles and labels\n",
    "plt.title('Box Plot of Contract Length')\n",
    "plt.xlabel('Contract Length')\n",
    "\n",
    "# Show the plot\n",
    "plt.show()"
   ]
  },
  {
   "cell_type": "code",
   "execution_count": null,
   "id": "7a96bed7-8613-48f4-832c-7142c818f56e",
   "metadata": {},
   "outputs": [],
   "source": [
    "# Ensure there are no NaN values in the cleaned DataFrame\n",
    "contract_clean_df = contract_df_clean.dropna(subset=['contract length', 'overall'])\n",
    "\n",
    "# Define the variables for regression\n",
    "contract_length = contract_clean_df['contract length']  \n",
    "overall_performance = contract_clean_df['overall']\n",
    "\n",
    "# Perform linear regression\n",
    "slope, intercept, r_value, p_value, std_err = st.linregress(contract_length, overall_performance)\n",
    "\n",
    "# Create regression line values\n",
    "regress_values = slope * contract_length + intercept\n",
    "\n",
    "# Create equation line for annotation\n",
    "line_eq = f\"y = {round(slope, 2)}x + {round(intercept, 2)}\"\n",
    "\n",
    "# Create correlation coefficient string\n",
    "correlation_eq = f\"R = {round(r_value, 2)}\"\n",
    "\n",
    "# Step 6: Graph\n",
    "plt.scatter(contract_length, overall_performance, label='Data Points')\n",
    "plt.plot(contract_length, regress_values, 'r-', label='Regression Line')\n",
    "plt.title('Contract Length vs. Overall Performance')\n",
    "plt.xlabel('Contract Length')\n",
    "plt.ylabel('Overall Performance')\n",
    "plt.legend()\n",
    "\n",
    "# Annotate the equation and correlation on the graph\n",
    "plt.annotate(line_eq, (0.05, 0.85), fontsize=12, color='red', xycoords='axes fraction')\n",
    "plt.annotate(correlation_eq, (0.05, 0.80), fontsize=12, color='blue', xycoords='axes fraction')\n",
    "\n",
    "# Show the plot\n",
    "plt.show()\n",
    "\n",
    "# Print R-squared value\n",
    "print(f\"R²: {r_value**2}\")\n",
    "\n",
    "\n",
    "\n"
   ]
  }
 ],
 "metadata": {
  "kernelspec": {
   "display_name": "Python 3 (ipykernel)",
   "language": "python",
   "name": "python3"
  },
  "language_info": {
   "codemirror_mode": {
    "name": "ipython",
    "version": 3
   },
   "file_extension": ".py",
   "mimetype": "text/x-python",
   "name": "python",
   "nbconvert_exporter": "python",
   "pygments_lexer": "ipython3",
   "version": "3.12.4"
  }
 },
 "nbformat": 4,
 "nbformat_minor": 5
}
