{
 "cells": [
  {
   "cell_type": "code",
   "execution_count": 1,
   "id": "21f99752-fe87-4a26-902f-d226a493e2bf",
   "metadata": {},
   "outputs": [],
   "source": [
    "# Dependencies and Setup\n",
    "import matplotlib.pyplot as plt\n",
    "import pandas as pd\n",
    "import scipy.stats as st"
   ]
  },
  {
   "cell_type": "code",
   "execution_count": 2,
   "id": "75555cc6-6bec-4922-a718-6b161aba392e",
   "metadata": {},
   "outputs": [
    {
     "data": {
      "text/html": [
       "<div>\n",
       "<style scoped>\n",
       "    .dataframe tbody tr th:only-of-type {\n",
       "        vertical-align: middle;\n",
       "    }\n",
       "\n",
       "    .dataframe tbody tr th {\n",
       "        vertical-align: top;\n",
       "    }\n",
       "\n",
       "    .dataframe thead th {\n",
       "        text-align: right;\n",
       "    }\n",
       "</style>\n",
       "<table border=\"1\" class=\"dataframe\">\n",
       "  <thead>\n",
       "    <tr style=\"text-align: right;\">\n",
       "      <th></th>\n",
       "      <th>sofifa_id</th>\n",
       "      <th>player_url</th>\n",
       "      <th>short_name</th>\n",
       "      <th>long_name</th>\n",
       "      <th>age</th>\n",
       "      <th>dob</th>\n",
       "      <th>height_cm</th>\n",
       "      <th>weight_kg</th>\n",
       "      <th>nationality</th>\n",
       "      <th>club_name</th>\n",
       "      <th>...</th>\n",
       "      <th>lwb</th>\n",
       "      <th>ldm</th>\n",
       "      <th>cdm</th>\n",
       "      <th>rdm</th>\n",
       "      <th>rwb</th>\n",
       "      <th>lb</th>\n",
       "      <th>lcb</th>\n",
       "      <th>cb</th>\n",
       "      <th>rcb</th>\n",
       "      <th>rb</th>\n",
       "    </tr>\n",
       "  </thead>\n",
       "  <tbody>\n",
       "    <tr>\n",
       "      <th>0</th>\n",
       "      <td>158023</td>\n",
       "      <td>https://sofifa.com/player/158023/lionel-messi/...</td>\n",
       "      <td>L. Messi</td>\n",
       "      <td>Lionel Andrés Messi Cuccittini</td>\n",
       "      <td>33</td>\n",
       "      <td>1987-06-24</td>\n",
       "      <td>170</td>\n",
       "      <td>72</td>\n",
       "      <td>Argentina</td>\n",
       "      <td>FC Barcelona</td>\n",
       "      <td>...</td>\n",
       "      <td>66+3</td>\n",
       "      <td>65+3</td>\n",
       "      <td>65+3</td>\n",
       "      <td>65+3</td>\n",
       "      <td>66+3</td>\n",
       "      <td>62+3</td>\n",
       "      <td>52+3</td>\n",
       "      <td>52+3</td>\n",
       "      <td>52+3</td>\n",
       "      <td>62+3</td>\n",
       "    </tr>\n",
       "    <tr>\n",
       "      <th>1</th>\n",
       "      <td>20801</td>\n",
       "      <td>https://sofifa.com/player/20801/c-ronaldo-dos-...</td>\n",
       "      <td>Cristiano Ronaldo</td>\n",
       "      <td>Cristiano Ronaldo dos Santos Aveiro</td>\n",
       "      <td>35</td>\n",
       "      <td>1985-02-05</td>\n",
       "      <td>187</td>\n",
       "      <td>83</td>\n",
       "      <td>Portugal</td>\n",
       "      <td>Juventus</td>\n",
       "      <td>...</td>\n",
       "      <td>65+3</td>\n",
       "      <td>61+3</td>\n",
       "      <td>61+3</td>\n",
       "      <td>61+3</td>\n",
       "      <td>65+3</td>\n",
       "      <td>61+3</td>\n",
       "      <td>54+3</td>\n",
       "      <td>54+3</td>\n",
       "      <td>54+3</td>\n",
       "      <td>61+3</td>\n",
       "    </tr>\n",
       "    <tr>\n",
       "      <th>2</th>\n",
       "      <td>200389</td>\n",
       "      <td>https://sofifa.com/player/200389/jan-oblak/210002</td>\n",
       "      <td>J. Oblak</td>\n",
       "      <td>Jan Oblak</td>\n",
       "      <td>27</td>\n",
       "      <td>1993-01-07</td>\n",
       "      <td>188</td>\n",
       "      <td>87</td>\n",
       "      <td>Slovenia</td>\n",
       "      <td>Atlético Madrid</td>\n",
       "      <td>...</td>\n",
       "      <td>32+3</td>\n",
       "      <td>36+3</td>\n",
       "      <td>36+3</td>\n",
       "      <td>36+3</td>\n",
       "      <td>32+3</td>\n",
       "      <td>32+3</td>\n",
       "      <td>33+3</td>\n",
       "      <td>33+3</td>\n",
       "      <td>33+3</td>\n",
       "      <td>32+3</td>\n",
       "    </tr>\n",
       "    <tr>\n",
       "      <th>3</th>\n",
       "      <td>188545</td>\n",
       "      <td>https://sofifa.com/player/188545/robert-lewand...</td>\n",
       "      <td>R. Lewandowski</td>\n",
       "      <td>Robert Lewandowski</td>\n",
       "      <td>31</td>\n",
       "      <td>1988-08-21</td>\n",
       "      <td>184</td>\n",
       "      <td>80</td>\n",
       "      <td>Poland</td>\n",
       "      <td>FC Bayern München</td>\n",
       "      <td>...</td>\n",
       "      <td>64+3</td>\n",
       "      <td>65+3</td>\n",
       "      <td>65+3</td>\n",
       "      <td>65+3</td>\n",
       "      <td>64+3</td>\n",
       "      <td>61+3</td>\n",
       "      <td>60+3</td>\n",
       "      <td>60+3</td>\n",
       "      <td>60+3</td>\n",
       "      <td>61+3</td>\n",
       "    </tr>\n",
       "    <tr>\n",
       "      <th>4</th>\n",
       "      <td>190871</td>\n",
       "      <td>https://sofifa.com/player/190871/neymar-da-sil...</td>\n",
       "      <td>Neymar Jr</td>\n",
       "      <td>Neymar da Silva Santos Júnior</td>\n",
       "      <td>28</td>\n",
       "      <td>1992-02-05</td>\n",
       "      <td>175</td>\n",
       "      <td>68</td>\n",
       "      <td>Brazil</td>\n",
       "      <td>Paris Saint-Germain</td>\n",
       "      <td>...</td>\n",
       "      <td>67+3</td>\n",
       "      <td>62+3</td>\n",
       "      <td>62+3</td>\n",
       "      <td>62+3</td>\n",
       "      <td>67+3</td>\n",
       "      <td>62+3</td>\n",
       "      <td>49+3</td>\n",
       "      <td>49+3</td>\n",
       "      <td>49+3</td>\n",
       "      <td>62+3</td>\n",
       "    </tr>\n",
       "  </tbody>\n",
       "</table>\n",
       "<p>5 rows × 106 columns</p>\n",
       "</div>"
      ],
      "text/plain": [
       "   sofifa_id                                         player_url  \\\n",
       "0     158023  https://sofifa.com/player/158023/lionel-messi/...   \n",
       "1      20801  https://sofifa.com/player/20801/c-ronaldo-dos-...   \n",
       "2     200389  https://sofifa.com/player/200389/jan-oblak/210002   \n",
       "3     188545  https://sofifa.com/player/188545/robert-lewand...   \n",
       "4     190871  https://sofifa.com/player/190871/neymar-da-sil...   \n",
       "\n",
       "          short_name                            long_name  age         dob  \\\n",
       "0           L. Messi       Lionel Andrés Messi Cuccittini   33  1987-06-24   \n",
       "1  Cristiano Ronaldo  Cristiano Ronaldo dos Santos Aveiro   35  1985-02-05   \n",
       "2           J. Oblak                            Jan Oblak   27  1993-01-07   \n",
       "3     R. Lewandowski                   Robert Lewandowski   31  1988-08-21   \n",
       "4          Neymar Jr        Neymar da Silva Santos Júnior   28  1992-02-05   \n",
       "\n",
       "   height_cm  weight_kg nationality            club_name  ...   lwb   ldm  \\\n",
       "0        170         72   Argentina         FC Barcelona  ...  66+3  65+3   \n",
       "1        187         83    Portugal             Juventus  ...  65+3  61+3   \n",
       "2        188         87    Slovenia      Atlético Madrid  ...  32+3  36+3   \n",
       "3        184         80      Poland    FC Bayern München  ...  64+3  65+3   \n",
       "4        175         68      Brazil  Paris Saint-Germain  ...  67+3  62+3   \n",
       "\n",
       "    cdm   rdm   rwb    lb   lcb    cb   rcb    rb  \n",
       "0  65+3  65+3  66+3  62+3  52+3  52+3  52+3  62+3  \n",
       "1  61+3  61+3  65+3  61+3  54+3  54+3  54+3  61+3  \n",
       "2  36+3  36+3  32+3  32+3  33+3  33+3  33+3  32+3  \n",
       "3  65+3  65+3  64+3  61+3  60+3  60+3  60+3  61+3  \n",
       "4  62+3  62+3  67+3  62+3  49+3  49+3  49+3  62+3  \n",
       "\n",
       "[5 rows x 106 columns]"
      ]
     },
     "execution_count": 2,
     "metadata": {},
     "output_type": "execute_result"
    }
   ],
   "source": [
    "# players_21 data files\n",
    "players_data_path = \"data/players_21.csv\"\n",
    "\n",
    "# Read the players data\n",
    "df = pd.read_csv(players_data_path)\n",
    "\n",
    "# Display the data table for preview\n",
    "df.head()"
   ]
  },
  {
   "cell_type": "code",
   "execution_count": 3,
   "id": "8c94bb78-451a-438a-b038-7ae7cd4ed774",
   "metadata": {},
   "outputs": [
    {
     "data": {
      "text/plain": [
       "height_cm    int64\n",
       "weight_kg    int64\n",
       "dtype: object"
      ]
     },
     "execution_count": 3,
     "metadata": {},
     "output_type": "execute_result"
    }
   ],
   "source": [
    "# Check height and weight columns if they have the appropriate data type (should be in integers int64)\n",
    "df[['height_cm', 'weight_kg']].dtypes"
   ]
  },
  {
   "cell_type": "code",
   "execution_count": 4,
   "id": "e6e15f81-dca5-49ee-a192-5ba69aeadd3e",
   "metadata": {},
   "outputs": [
    {
     "data": {
      "text/plain": [
       "dtype('O')"
      ]
     },
     "execution_count": 4,
     "metadata": {},
     "output_type": "execute_result"
    }
   ],
   "source": [
    "# Check datatype of 'joined' column\n",
    "df['joined'].dtypes"
   ]
  },
  {
   "cell_type": "code",
   "execution_count": 5,
   "id": "c8a97064-8381-46c3-8ff2-bb3fbf5e91b3",
   "metadata": {},
   "outputs": [
    {
     "data": {
      "text/html": [
       "<div>\n",
       "<style scoped>\n",
       "    .dataframe tbody tr th:only-of-type {\n",
       "        vertical-align: middle;\n",
       "    }\n",
       "\n",
       "    .dataframe tbody tr th {\n",
       "        vertical-align: top;\n",
       "    }\n",
       "\n",
       "    .dataframe thead th {\n",
       "        text-align: right;\n",
       "    }\n",
       "</style>\n",
       "<table border=\"1\" class=\"dataframe\">\n",
       "  <thead>\n",
       "    <tr style=\"text-align: right;\">\n",
       "      <th></th>\n",
       "      <th>joined</th>\n",
       "      <th>joined_year</th>\n",
       "      <th>joined_month</th>\n",
       "      <th>joined_day</th>\n",
       "    </tr>\n",
       "  </thead>\n",
       "  <tbody>\n",
       "    <tr>\n",
       "      <th>0</th>\n",
       "      <td>2004-07-01</td>\n",
       "      <td>2004.0</td>\n",
       "      <td>7.0</td>\n",
       "      <td>1.0</td>\n",
       "    </tr>\n",
       "    <tr>\n",
       "      <th>1</th>\n",
       "      <td>2018-07-10</td>\n",
       "      <td>2018.0</td>\n",
       "      <td>7.0</td>\n",
       "      <td>10.0</td>\n",
       "    </tr>\n",
       "    <tr>\n",
       "      <th>2</th>\n",
       "      <td>2014-07-16</td>\n",
       "      <td>2014.0</td>\n",
       "      <td>7.0</td>\n",
       "      <td>16.0</td>\n",
       "    </tr>\n",
       "    <tr>\n",
       "      <th>3</th>\n",
       "      <td>2014-07-01</td>\n",
       "      <td>2014.0</td>\n",
       "      <td>7.0</td>\n",
       "      <td>1.0</td>\n",
       "    </tr>\n",
       "    <tr>\n",
       "      <th>4</th>\n",
       "      <td>2017-08-03</td>\n",
       "      <td>2017.0</td>\n",
       "      <td>8.0</td>\n",
       "      <td>3.0</td>\n",
       "    </tr>\n",
       "  </tbody>\n",
       "</table>\n",
       "</div>"
      ],
      "text/plain": [
       "      joined  joined_year  joined_month  joined_day\n",
       "0 2004-07-01       2004.0           7.0         1.0\n",
       "1 2018-07-10       2018.0           7.0        10.0\n",
       "2 2014-07-16       2014.0           7.0        16.0\n",
       "3 2014-07-01       2014.0           7.0         1.0\n",
       "4 2017-08-03       2017.0           8.0         3.0"
      ]
     },
     "execution_count": 5,
     "metadata": {},
     "output_type": "execute_result"
    }
   ],
   "source": [
    "# Convert 'joined' column into datatime, \n",
    "df['joined'] = pd.to_datetime(df['joined'], errors='coerce')\n",
    "\n",
    "# then extract the year, month, and day into 3 separate cols\n",
    "df['joined_year'] = df['joined'].dt.year\n",
    "df['joined_month'] = df['joined'].dt.month\n",
    "df['joined_day'] = df['joined'].dt.day\n",
    "\n",
    "# Display the results\n",
    "df[['joined', 'joined_year', 'joined_month', 'joined_day']].head()"
   ]
  },
  {
   "cell_type": "code",
   "execution_count": 6,
   "id": "6f7eb087-2b7d-48ed-bea9-306ef03920df",
   "metadata": {},
   "outputs": [
    {
     "data": {
      "text/plain": [
       "value_eur               int64\n",
       "wage_eur                int64\n",
       "release_clause_eur    float64\n",
       "dtype: object"
      ]
     },
     "execution_count": 6,
     "metadata": {},
     "output_type": "execute_result"
    }
   ],
   "source": [
    "# Check datatype of 'value, wage, release clause' cols\n",
    "df[['value_eur', 'wage_eur', 'release_clause_eur']].dtypes"
   ]
  },
  {
   "cell_type": "code",
   "execution_count": 7,
   "id": "6d568d2b-4c21-4c6e-9bf2-08726aa8a20e",
   "metadata": {},
   "outputs": [
    {
     "data": {
      "text/plain": [
       "release_clause_eur    int32\n",
       "dtype: object"
      ]
     },
     "execution_count": 7,
     "metadata": {},
     "output_type": "execute_result"
    }
   ],
   "source": [
    "# Convert float to int\n",
    "df['release_clause_eur'] = df['release_clause_eur'].fillna(0).astype(int)\n",
    "\n",
    "# Verify the change\n",
    "df[['release_clause_eur']].dtypes"
   ]
  },
  {
   "cell_type": "code",
   "execution_count": 8,
   "id": "ea5dfcc3-4e8f-4327-8128-bdad76aabd1e",
   "metadata": {},
   "outputs": [
    {
     "data": {
      "text/html": [
       "<div>\n",
       "<style scoped>\n",
       "    .dataframe tbody tr th:only-of-type {\n",
       "        vertical-align: middle;\n",
       "    }\n",
       "\n",
       "    .dataframe tbody tr th {\n",
       "        vertical-align: top;\n",
       "    }\n",
       "\n",
       "    .dataframe thead th {\n",
       "        text-align: right;\n",
       "    }\n",
       "</style>\n",
       "<table border=\"1\" class=\"dataframe\">\n",
       "  <thead>\n",
       "    <tr style=\"text-align: right;\">\n",
       "      <th></th>\n",
       "      <th>value_eur</th>\n",
       "      <th>wage_eur</th>\n",
       "      <th>release_clause_eur</th>\n",
       "    </tr>\n",
       "  </thead>\n",
       "  <tbody>\n",
       "    <tr>\n",
       "      <th>0</th>\n",
       "      <td>67500000</td>\n",
       "      <td>560000</td>\n",
       "      <td>138400000</td>\n",
       "    </tr>\n",
       "    <tr>\n",
       "      <th>1</th>\n",
       "      <td>46000000</td>\n",
       "      <td>220000</td>\n",
       "      <td>75900000</td>\n",
       "    </tr>\n",
       "    <tr>\n",
       "      <th>2</th>\n",
       "      <td>75000000</td>\n",
       "      <td>125000</td>\n",
       "      <td>159400000</td>\n",
       "    </tr>\n",
       "    <tr>\n",
       "      <th>3</th>\n",
       "      <td>80000000</td>\n",
       "      <td>240000</td>\n",
       "      <td>132000000</td>\n",
       "    </tr>\n",
       "    <tr>\n",
       "      <th>4</th>\n",
       "      <td>90000000</td>\n",
       "      <td>270000</td>\n",
       "      <td>166500000</td>\n",
       "    </tr>\n",
       "  </tbody>\n",
       "</table>\n",
       "</div>"
      ],
      "text/plain": [
       "   value_eur  wage_eur  release_clause_eur\n",
       "0   67500000    560000           138400000\n",
       "1   46000000    220000            75900000\n",
       "2   75000000    125000           159400000\n",
       "3   80000000    240000           132000000\n",
       "4   90000000    270000           166500000"
      ]
     },
     "execution_count": 8,
     "metadata": {},
     "output_type": "execute_result"
    }
   ],
   "source": [
    "# Display the results of the 3 cols\n",
    "df[['value_eur', 'wage_eur', 'release_clause_eur']].head()"
   ]
  },
  {
   "cell_type": "code",
   "execution_count": 9,
   "id": "7ee8ff4c-e7e4-44d8-92b2-eed340352cb6",
   "metadata": {},
   "outputs": [
    {
     "data": {
      "text/plain": [
       "dtype('float64')"
      ]
     },
     "execution_count": 9,
     "metadata": {},
     "output_type": "execute_result"
    }
   ],
   "source": [
    "df['contract_valid_until'].dtypes"
   ]
  },
  {
   "cell_type": "code",
   "execution_count": 10,
   "id": "19689cfe-7e69-44f9-a702-f681c98ddb7e",
   "metadata": {},
   "outputs": [],
   "source": [
    "# Convert to int\n",
    "df['contract_valid_until'] = df['contract_valid_until'].fillna(0).astype(int)"
   ]
  },
  {
   "cell_type": "code",
   "execution_count": 11,
   "id": "f3672230-a49d-462d-a12b-ce3fdf189925",
   "metadata": {},
   "outputs": [
    {
     "data": {
      "text/plain": [
       "sofifa_id         0\n",
       "player_url        0\n",
       "short_name        0\n",
       "long_name         0\n",
       "age               0\n",
       "               ... \n",
       "rcb               0\n",
       "rb                0\n",
       "joined_year     983\n",
       "joined_month    983\n",
       "joined_day      983\n",
       "Length: 109, dtype: int64"
      ]
     },
     "execution_count": 11,
     "metadata": {},
     "output_type": "execute_result"
    }
   ],
   "source": [
    "# Check if there's missing values in the dataset\n",
    "missing_values = df.isnull().sum()\n",
    "missing_values"
   ]
  },
  {
   "cell_type": "markdown",
   "id": "47a42680-51ab-45e7-a049-0e47ddbedec0",
   "metadata": {},
   "source": [
    "## Analyzing Contract Expiration Trend\n",
    "- Explore trends in contract expiration dates across clubs or nationalities"
   ]
  },
  {
   "cell_type": "code",
   "execution_count": 13,
   "id": "ee8249de-e7b0-487c-a513-13694a519f5f",
   "metadata": {},
   "outputs": [],
   "source": [
    "# "
   ]
  },
  {
   "cell_type": "markdown",
   "id": "ea078a5e-1375-421c-9fe5-796ac600baba",
   "metadata": {},
   "source": [
    "## Player Performance vs Wage\n",
    "- Analyze if younger players tend to have higher potential values compared to older players."
   ]
  },
  {
   "cell_type": "code",
   "execution_count": 15,
   "id": "b00fd1bb-e3a8-4c82-a654-5306b20a2689",
   "metadata": {},
   "outputs": [],
   "source": [
    "#\n"
   ]
  },
  {
   "cell_type": "markdown",
   "id": "82d7c932-dec5-4ddf-a15c-1807867184fe",
   "metadata": {},
   "source": [
    "## Position Analysis\n",
    "- Analyze which positions (forwards, midfielders, etc) have the highest overall ratings or wage"
   ]
  },
  {
   "cell_type": "code",
   "execution_count": 17,
   "id": "a70e7683-bdee-40c2-abf4-2c06dce8f681",
   "metadata": {},
   "outputs": [
    {
     "data": {
      "text/html": [
       "<div>\n",
       "<style scoped>\n",
       "    .dataframe tbody tr th:only-of-type {\n",
       "        vertical-align: middle;\n",
       "    }\n",
       "\n",
       "    .dataframe tbody tr th {\n",
       "        vertical-align: top;\n",
       "    }\n",
       "\n",
       "    .dataframe thead th {\n",
       "        text-align: right;\n",
       "    }\n",
       "</style>\n",
       "<table border=\"1\" class=\"dataframe\">\n",
       "  <thead>\n",
       "    <tr style=\"text-align: right;\">\n",
       "      <th></th>\n",
       "      <th>Minimum</th>\n",
       "      <th>Q1 (25th Percentile)</th>\n",
       "      <th>Median (50th Percentile)</th>\n",
       "      <th>Q3 (75th Percentile)</th>\n",
       "      <th>Maximum</th>\n",
       "    </tr>\n",
       "  </thead>\n",
       "  <tbody>\n",
       "    <tr>\n",
       "      <th>0</th>\n",
       "      <td>47</td>\n",
       "      <td>61.0</td>\n",
       "      <td>66.0</td>\n",
       "      <td>70.0</td>\n",
       "      <td>93</td>\n",
       "    </tr>\n",
       "  </tbody>\n",
       "</table>\n",
       "</div>"
      ],
      "text/plain": [
       "   Minimum  Q1 (25th Percentile)  Median (50th Percentile)  \\\n",
       "0       47                  61.0                      66.0   \n",
       "\n",
       "   Q3 (75th Percentile)  Maximum  \n",
       "0                  70.0       93  "
      ]
     },
     "metadata": {},
     "output_type": "display_data"
    }
   ],
   "source": [
    "# Create a data frame of the analysis of performance\n",
    "\n",
    "#Calculate the Analysis\n",
    "minimum = df['overall'].min()\n",
    "Q1 = df['overall'].quantile(0.25)\n",
    "median = df['overall'].median()\n",
    "Q3 = df['overall'].quantile(0.75)\n",
    "maximum = df['overall'].max()\n",
    "\n",
    "#Create a dictionary for the DFs\n",
    "\n",
    "analysis_of_performance = {\n",
    "    'Minimum': minimum,\n",
    "    'Q1 (25th Percentile)': Q1,\n",
    "    'Median (50th Percentile)': median,\n",
    "    'Q3 (75th Percentile)': Q3,\n",
    "    'Maximum': maximum\n",
    "}\n",
    "\n",
    "# Create a DataFrame from the dictionary\n",
    "analysis_of_performance_df = pd.DataFrame(analysis_of_performance, index=[0])\n",
    "\n",
    "# Display the DataFrame\n",
    "display(analysis_of_performance_df)\n",
    "\n"
   ]
  },
  {
   "cell_type": "code",
   "execution_count": 18,
   "id": "1c8c2a88-940e-469a-8dc1-750977db7c93",
   "metadata": {},
   "outputs": [
    {
     "data": {
      "image/png": "[encoded data removed]",
      "text/plain": [
       "<Figure size 640x480 with 1 Axes>"
      ]
     },
     "metadata": {},
     "output_type": "display_data"
    }
   ],
   "source": [
    "\n",
    "plt.boxplot(df['overall'])  \n",
    "\n",
    "# Add titles and labels\n",
    "plt.title('Box Plot of Overall Ratings')\n",
    "plt.xlabel('Overall Rating')\n",
    "\n",
    "# Show the plot\n",
    "plt.show()"
   ]
  },
  {
   "cell_type": "code",
   "execution_count": 19,
   "id": "f60e2ec0-0c14-41e0-a116-8d25a26d9d66",
   "metadata": {},
   "outputs": [
    {
     "data": {
      "image/png": "[encoded data removed]",
      "text/plain": [
       "<Figure size 640x480 with 1 Axes>"
      ]
     },
     "metadata": {},
     "output_type": "display_data"
    }
   ],
   "source": [
    "# Desired order of player positions\n",
    "work_order = ['Low/Low', 'Low/Medium', 'Low/High', 'Medium/Low', 'Medium/Medium', 'Medium/High', 'High/Low', 'High/Medium', 'High/High']\n",
    "\n",
    "# Calculate the average overall rating for each player position\n",
    "avg_overall_by_work_rate = df.groupby('work_rate')['overall'].mean().reset_index()\n",
    "\n",
    "# Convert player_position to a categorical type with the specified order\n",
    "avg_overall_by_work_rate['work_rate'] = pd.Categorical(avg_overall_by_work_rate['work_rate'], categories=work_order, ordered=True)\n",
    "\n",
    "# Sort the DataFrame by the ordered work_rate\n",
    "avg_overall_by_work_rate = avg_overall_by_work_rate.sort_values('work_rate')\n",
    "\n",
    "# Create the bar graph\n",
    "plt.bar(avg_overall_by_work_rate['work_rate'], avg_overall_by_work_rate['overall'])\n",
    "\n",
    "# Add titles and labels\n",
    "plt.title('Average Overall Rating by Work Rate')\n",
    "plt.xlabel('Work Rate')\n",
    "plt.ylabel('Average Overall Rating')\n",
    "plt.xticks(rotation=45)\n",
    "\n",
    "# Show the plot\n",
    "plt.show()\n"
   ]
  },
  {
   "cell_type": "code",
   "execution_count": 25,
   "id": "e4962f02-4053-4e0d-af33-40a939690c1c",
   "metadata": {},
   "outputs": [
    {
     "name": "stdout",
     "output_type": "stream",
     "text": [
      "ANOVA result: F_onewayResult(statistic=180.8932193094758, pvalue=7.803327969335649e-296)\n"
     ]
    }
   ],
   "source": [
    "# Performing ANOVA\n",
    "anova_result = st.f_oneway(\n",
    "    df[df['work_rate'] == 'Low/Low']['overall'],\n",
    "    df[df['work_rate'] == 'Low/Medium']['overall'],\n",
    "    df[df['work_rate'] == 'Low/High']['overall'],\n",
    "    df[df['work_rate'] == 'Medium/Low']['overall'],\n",
    "    df[df['work_rate'] == 'Medium/Medium']['overall'],\n",
    "    df[df['work_rate'] == 'Medium/High']['overall'],\n",
    "    df[df['work_rate'] == 'High/Low']['overall'],\n",
    "    df[df['work_rate'] == 'High/Medium']['overall'],\n",
    "    df[df['work_rate'] == 'High/High']['overall']\n",
    ")\n",
    "\n",
    "print('ANOVA result:', anova_result)\n",
    "\n"
   ]
  },
  {
   "cell_type": "code",
   "execution_count": 27,
   "id": "fe896ad2-8754-4f26-abcc-87ccc797017c",
   "metadata": {},
   "outputs": [
    {
     "name": "stdout",
     "output_type": "stream",
     "text": [
      "       Multiple Comparison of Means - Tukey HSD, FWER=0.05       \n",
      "=================================================================\n",
      "   group1       group2    meandiff p-adj   lower    upper  reject\n",
      "-----------------------------------------------------------------\n",
      "  High/High      High/Low  -2.9987    0.0  -3.9903 -2.0071   True\n",
      "  High/High   High/Medium  -2.1195    0.0  -2.8626 -1.3763   True\n",
      "  High/High      Low/High  -3.5564    0.0  -4.7432 -2.3695   True\n",
      "  High/High       Low/Low -10.0688    0.0 -13.0183 -7.1194   True\n",
      "  High/High    Low/Medium  -5.4298    0.0  -6.5852 -4.2743   True\n",
      "  High/High   Medium/High  -2.2234    0.0  -3.0414 -1.4053   True\n",
      "  High/High    Medium/Low  -4.5765    0.0  -5.5282 -3.6249   True\n",
      "  High/High Medium/Medium  -5.6773    0.0  -6.3624 -4.9923   True\n",
      "   High/Low   High/Medium   0.8792 0.0274   0.0517  1.7068   True\n",
      "   High/Low      Low/High  -0.5577 0.9007  -1.7991  0.6838  False\n",
      "   High/Low       Low/Low  -7.0701    0.0  -10.042 -4.0983   True\n",
      "   High/Low    Low/Medium  -2.4311    0.0  -3.6425 -1.2196   True\n",
      "   High/Low   Medium/High   0.7753 0.1527  -0.1201  1.6708  False\n",
      "   High/Low    Medium/Low  -1.5778 0.0001  -2.5967 -0.5589   True\n",
      "   High/Low Medium/Medium  -2.6786    0.0  -3.4544 -1.9028   True\n",
      "High/Medium      Low/High  -1.4369 0.0008  -2.4905 -0.3833   True\n",
      "High/Medium       Low/Low  -7.9494    0.0 -10.8478  -5.051   True\n",
      "High/Medium    Low/Medium  -3.3103    0.0  -4.3285 -2.2921   True\n",
      "High/Medium   Medium/High  -0.1039 0.9998  -0.7128  0.5051  False\n",
      "High/Medium    Medium/Low   -2.457    0.0  -3.2363 -1.6778   True\n",
      "High/Medium Medium/Medium  -3.5579    0.0  -3.9712 -3.1445   True\n",
      "   Low/High       Low/Low  -6.5125    0.0   -9.555 -3.4699   True\n",
      "   Low/High    Low/Medium  -1.8734 0.0008  -3.2493 -0.4975   True\n",
      "   Low/High   Medium/High    1.333 0.0059   0.2252  2.4408   True\n",
      "   Low/High    Medium/Low  -1.0202 0.1798  -2.2299  0.1896  False\n",
      "   Low/High Medium/Medium   -2.121    0.0  -3.1345 -1.1075   True\n",
      "    Low/Low    Low/Medium   4.6391 0.0001   1.6086  7.6695   True\n",
      "    Low/Low   Medium/High   7.8455    0.0    4.927  10.764   True\n",
      "    Low/Low    Medium/Low   5.4923    0.0   2.5336  8.4511   True\n",
      "    Low/Low Medium/Medium   4.3915 0.0001   1.5074  7.2756   True\n",
      " Low/Medium   Medium/High   3.2064    0.0   2.1323  4.2805   True\n",
      " Low/Medium    Medium/Low   0.8532 0.3764  -0.3258  2.0323  False\n",
      " Low/Medium Medium/Medium  -0.2476 0.9972  -1.2242   0.729  False\n",
      "Medium/High    Medium/Low  -2.3532    0.0  -3.2042 -1.5022   True\n",
      "Medium/High Medium/Medium   -3.454    0.0  -3.9905 -2.9175   True\n",
      " Medium/Low Medium/Medium  -1.1008 0.0001  -1.8249 -0.3768   True\n",
      "-----------------------------------------------------------------\n"
     ]
    }
   ],
   "source": [
    "import statsmodels.api as sm\n",
    "from statsmodels.stats.multicomp import pairwise_tukeyhsd\n",
    "\n",
    "# Perform Tukey's HSD test\n",
    "tukey = pairwise_tukeyhsd(endog=df['overall'],    \n",
    "                          groups=df['work_rate'],  \n",
    "                          alpha=0.05)            \n",
    "\n",
    "# Display the test results\n",
    "print(tukey)\n"
   ]
  }
 ],
 "metadata": {
  "kernelspec": {
   "display_name": "Python 3 (ipykernel)",
   "language": "python",
   "name": "python3"
  },
  "language_info": {
   "codemirror_mode": {
    "name": "ipython",
    "version": 3
   },
   "file_extension": ".py",
   "mimetype": "text/x-python",
   "name": "python",
   "nbconvert_exporter": "python",
   "pygments_lexer": "ipython3",
   "version": "3.12.4"
  }
 },
 "nbformat": 4,
 "nbformat_minor": 5
}
