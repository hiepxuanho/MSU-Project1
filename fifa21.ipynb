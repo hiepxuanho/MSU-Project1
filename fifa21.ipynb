{
 "cells": [
  {
   "cell_type": "code",
   "execution_count": 1,
   "id": "21f99752-fe87-4a26-902f-d226a493e2bf",
   "metadata": {},
   "outputs": [],
   "source": [
    "# Dependencies and Setup\n",
    "import matplotlib.pyplot as plt\n",
    "import pandas as pd\n",
    "import scipy.stats as st"
   ]
  },
  {
   "cell_type": "code",
   "execution_count": 2,
   "id": "75555cc6-6bec-4922-a718-6b161aba392e",
   "metadata": {},
   "outputs": [
    {
     "data": {
      "text/html": [
       "<div>\n",
       "<style scoped>\n",
       "    .dataframe tbody tr th:only-of-type {\n",
       "        vertical-align: middle;\n",
       "    }\n",
       "\n",
       "    .dataframe tbody tr th {\n",
       "        vertical-align: top;\n",
       "    }\n",
       "\n",
       "    .dataframe thead th {\n",
       "        text-align: right;\n",
       "    }\n",
       "</style>\n",
       "<table border=\"1\" class=\"dataframe\">\n",
       "  <thead>\n",
       "    <tr style=\"text-align: right;\">\n",
       "      <th></th>\n",
       "      <th>sofifa_id</th>\n",
       "      <th>player_url</th>\n",
       "      <th>short_name</th>\n",
       "      <th>long_name</th>\n",
       "      <th>age</th>\n",
       "      <th>dob</th>\n",
       "      <th>height_cm</th>\n",
       "      <th>weight_kg</th>\n",
       "      <th>nationality</th>\n",
       "      <th>club_name</th>\n",
       "      <th>...</th>\n",
       "      <th>lwb</th>\n",
       "      <th>ldm</th>\n",
       "      <th>cdm</th>\n",
       "      <th>rdm</th>\n",
       "      <th>rwb</th>\n",
       "      <th>lb</th>\n",
       "      <th>lcb</th>\n",
       "      <th>cb</th>\n",
       "      <th>rcb</th>\n",
       "      <th>rb</th>\n",
       "    </tr>\n",
       "  </thead>\n",
       "  <tbody>\n",
       "    <tr>\n",
       "      <th>0</th>\n",
       "      <td>158023</td>\n",
       "      <td>https://sofifa.com/player/158023/lionel-messi/...</td>\n",
       "      <td>L. Messi</td>\n",
       "      <td>Lionel Andrés Messi Cuccittini</td>\n",
       "      <td>33</td>\n",
       "      <td>1987-06-24</td>\n",
       "      <td>170</td>\n",
       "      <td>72</td>\n",
       "      <td>Argentina</td>\n",
       "      <td>FC Barcelona</td>\n",
       "      <td>...</td>\n",
       "      <td>66+3</td>\n",
       "      <td>65+3</td>\n",
       "      <td>65+3</td>\n",
       "      <td>65+3</td>\n",
       "      <td>66+3</td>\n",
       "      <td>62+3</td>\n",
       "      <td>52+3</td>\n",
       "      <td>52+3</td>\n",
       "      <td>52+3</td>\n",
       "      <td>62+3</td>\n",
       "    </tr>\n",
       "    <tr>\n",
       "      <th>1</th>\n",
       "      <td>20801</td>\n",
       "      <td>https://sofifa.com/player/20801/c-ronaldo-dos-...</td>\n",
       "      <td>Cristiano Ronaldo</td>\n",
       "      <td>Cristiano Ronaldo dos Santos Aveiro</td>\n",
       "      <td>35</td>\n",
       "      <td>1985-02-05</td>\n",
       "      <td>187</td>\n",
       "      <td>83</td>\n",
       "      <td>Portugal</td>\n",
       "      <td>Juventus</td>\n",
       "      <td>...</td>\n",
       "      <td>65+3</td>\n",
       "      <td>61+3</td>\n",
       "      <td>61+3</td>\n",
       "      <td>61+3</td>\n",
       "      <td>65+3</td>\n",
       "      <td>61+3</td>\n",
       "      <td>54+3</td>\n",
       "      <td>54+3</td>\n",
       "      <td>54+3</td>\n",
       "      <td>61+3</td>\n",
       "    </tr>\n",
       "    <tr>\n",
       "      <th>2</th>\n",
       "      <td>200389</td>\n",
       "      <td>https://sofifa.com/player/200389/jan-oblak/210002</td>\n",
       "      <td>J. Oblak</td>\n",
       "      <td>Jan Oblak</td>\n",
       "      <td>27</td>\n",
       "      <td>1993-01-07</td>\n",
       "      <td>188</td>\n",
       "      <td>87</td>\n",
       "      <td>Slovenia</td>\n",
       "      <td>Atlético Madrid</td>\n",
       "      <td>...</td>\n",
       "      <td>32+3</td>\n",
       "      <td>36+3</td>\n",
       "      <td>36+3</td>\n",
       "      <td>36+3</td>\n",
       "      <td>32+3</td>\n",
       "      <td>32+3</td>\n",
       "      <td>33+3</td>\n",
       "      <td>33+3</td>\n",
       "      <td>33+3</td>\n",
       "      <td>32+3</td>\n",
       "    </tr>\n",
       "    <tr>\n",
       "      <th>3</th>\n",
       "      <td>188545</td>\n",
       "      <td>https://sofifa.com/player/188545/robert-lewand...</td>\n",
       "      <td>R. Lewandowski</td>\n",
       "      <td>Robert Lewandowski</td>\n",
       "      <td>31</td>\n",
       "      <td>1988-08-21</td>\n",
       "      <td>184</td>\n",
       "      <td>80</td>\n",
       "      <td>Poland</td>\n",
       "      <td>FC Bayern München</td>\n",
       "      <td>...</td>\n",
       "      <td>64+3</td>\n",
       "      <td>65+3</td>\n",
       "      <td>65+3</td>\n",
       "      <td>65+3</td>\n",
       "      <td>64+3</td>\n",
       "      <td>61+3</td>\n",
       "      <td>60+3</td>\n",
       "      <td>60+3</td>\n",
       "      <td>60+3</td>\n",
       "      <td>61+3</td>\n",
       "    </tr>\n",
       "    <tr>\n",
       "      <th>4</th>\n",
       "      <td>190871</td>\n",
       "      <td>https://sofifa.com/player/190871/neymar-da-sil...</td>\n",
       "      <td>Neymar Jr</td>\n",
       "      <td>Neymar da Silva Santos Júnior</td>\n",
       "      <td>28</td>\n",
       "      <td>1992-02-05</td>\n",
       "      <td>175</td>\n",
       "      <td>68</td>\n",
       "      <td>Brazil</td>\n",
       "      <td>Paris Saint-Germain</td>\n",
       "      <td>...</td>\n",
       "      <td>67+3</td>\n",
       "      <td>62+3</td>\n",
       "      <td>62+3</td>\n",
       "      <td>62+3</td>\n",
       "      <td>67+3</td>\n",
       "      <td>62+3</td>\n",
       "      <td>49+3</td>\n",
       "      <td>49+3</td>\n",
       "      <td>49+3</td>\n",
       "      <td>62+3</td>\n",
       "    </tr>\n",
       "  </tbody>\n",
       "</table>\n",
       "<p>5 rows × 106 columns</p>\n",
       "</div>"
      ],
      "text/plain": [
       "   sofifa_id                                         player_url  \\\n",
       "0     158023  https://sofifa.com/player/158023/lionel-messi/...   \n",
       "1      20801  https://sofifa.com/player/20801/c-ronaldo-dos-...   \n",
       "2     200389  https://sofifa.com/player/200389/jan-oblak/210002   \n",
       "3     188545  https://sofifa.com/player/188545/robert-lewand...   \n",
       "4     190871  https://sofifa.com/player/190871/neymar-da-sil...   \n",
       "\n",
       "          short_name                            long_name  age         dob  \\\n",
       "0           L. Messi       Lionel Andrés Messi Cuccittini   33  1987-06-24   \n",
       "1  Cristiano Ronaldo  Cristiano Ronaldo dos Santos Aveiro   35  1985-02-05   \n",
       "2           J. Oblak                            Jan Oblak   27  1993-01-07   \n",
       "3     R. Lewandowski                   Robert Lewandowski   31  1988-08-21   \n",
       "4          Neymar Jr        Neymar da Silva Santos Júnior   28  1992-02-05   \n",
       "\n",
       "   height_cm  weight_kg nationality            club_name  ...   lwb   ldm  \\\n",
       "0        170         72   Argentina         FC Barcelona  ...  66+3  65+3   \n",
       "1        187         83    Portugal             Juventus  ...  65+3  61+3   \n",
       "2        188         87    Slovenia      Atlético Madrid  ...  32+3  36+3   \n",
       "3        184         80      Poland    FC Bayern München  ...  64+3  65+3   \n",
       "4        175         68      Brazil  Paris Saint-Germain  ...  67+3  62+3   \n",
       "\n",
       "    cdm   rdm   rwb    lb   lcb    cb   rcb    rb  \n",
       "0  65+3  65+3  66+3  62+3  52+3  52+3  52+3  62+3  \n",
       "1  61+3  61+3  65+3  61+3  54+3  54+3  54+3  61+3  \n",
       "2  36+3  36+3  32+3  32+3  33+3  33+3  33+3  32+3  \n",
       "3  65+3  65+3  64+3  61+3  60+3  60+3  60+3  61+3  \n",
       "4  62+3  62+3  67+3  62+3  49+3  49+3  49+3  62+3  \n",
       "\n",
       "[5 rows x 106 columns]"
      ]
     },
     "execution_count": 2,
     "metadata": {},
     "output_type": "execute_result"
    }
   ],
   "source": [
    "# players_21 data files\n",
    "players_data_path = \"data/players_21.csv\"\n",
    "\n",
    "# Read the players data\n",
    "df = pd.read_csv(players_data_path)\n",
    "\n",
    "# Display the data table for preview\n",
    "df.head()"
   ]
  },
  {
   "cell_type": "code",
   "execution_count": 3,
   "id": "6c6c08a8-aaab-4e95-9d2a-917af0311981",
   "metadata": {},
   "outputs": [],
   "source": [
    "# Drop missing \n",
    "#df = df.dropna()"
   ]
  },
  {
   "cell_type": "code",
   "execution_count": 4,
   "id": "8c94bb78-451a-438a-b038-7ae7cd4ed774",
   "metadata": {},
   "outputs": [
    {
     "data": {
      "text/plain": [
       "height_cm    int64\n",
       "weight_kg    int64\n",
       "dtype: object"
      ]
     },
     "execution_count": 4,
     "metadata": {},
     "output_type": "execute_result"
    }
   ],
   "source": [
    "# Check height and weight columns if they have the appropriate data type (should be in integers int64)\n",
    "df[['height_cm', 'weight_kg']].dtypes"
   ]
  },
  {
   "cell_type": "code",
   "execution_count": 5,
   "id": "e6e15f81-dca5-49ee-a192-5ba69aeadd3e",
   "metadata": {},
   "outputs": [
    {
     "data": {
      "text/plain": [
       "dtype('O')"
      ]
     },
     "execution_count": 5,
     "metadata": {},
     "output_type": "execute_result"
    }
   ],
   "source": [
    "# Check datatype of 'joined' column\n",
    "df['joined'].dtypes"
   ]
  },
  {
   "cell_type": "code",
   "execution_count": 6,
   "id": "c8a97064-8381-46c3-8ff2-bb3fbf5e91b3",
   "metadata": {},
   "outputs": [
    {
     "data": {
      "text/html": [
       "<div>\n",
       "<style scoped>\n",
       "    .dataframe tbody tr th:only-of-type {\n",
       "        vertical-align: middle;\n",
       "    }\n",
       "\n",
       "    .dataframe tbody tr th {\n",
       "        vertical-align: top;\n",
       "    }\n",
       "\n",
       "    .dataframe thead th {\n",
       "        text-align: right;\n",
       "    }\n",
       "</style>\n",
       "<table border=\"1\" class=\"dataframe\">\n",
       "  <thead>\n",
       "    <tr style=\"text-align: right;\">\n",
       "      <th></th>\n",
       "      <th>joined</th>\n",
       "      <th>joined_year</th>\n",
       "      <th>joined_month</th>\n",
       "      <th>joined_day</th>\n",
       "    </tr>\n",
       "  </thead>\n",
       "  <tbody>\n",
       "    <tr>\n",
       "      <th>0</th>\n",
       "      <td>2004-07-01</td>\n",
       "      <td>2004.0</td>\n",
       "      <td>7.0</td>\n",
       "      <td>1.0</td>\n",
       "    </tr>\n",
       "    <tr>\n",
       "      <th>1</th>\n",
       "      <td>2018-07-10</td>\n",
       "      <td>2018.0</td>\n",
       "      <td>7.0</td>\n",
       "      <td>10.0</td>\n",
       "    </tr>\n",
       "    <tr>\n",
       "      <th>2</th>\n",
       "      <td>2014-07-16</td>\n",
       "      <td>2014.0</td>\n",
       "      <td>7.0</td>\n",
       "      <td>16.0</td>\n",
       "    </tr>\n",
       "    <tr>\n",
       "      <th>3</th>\n",
       "      <td>2014-07-01</td>\n",
       "      <td>2014.0</td>\n",
       "      <td>7.0</td>\n",
       "      <td>1.0</td>\n",
       "    </tr>\n",
       "    <tr>\n",
       "      <th>4</th>\n",
       "      <td>2017-08-03</td>\n",
       "      <td>2017.0</td>\n",
       "      <td>8.0</td>\n",
       "      <td>3.0</td>\n",
       "    </tr>\n",
       "  </tbody>\n",
       "</table>\n",
       "</div>"
      ],
      "text/plain": [
       "      joined  joined_year  joined_month  joined_day\n",
       "0 2004-07-01       2004.0           7.0         1.0\n",
       "1 2018-07-10       2018.0           7.0        10.0\n",
       "2 2014-07-16       2014.0           7.0        16.0\n",
       "3 2014-07-01       2014.0           7.0         1.0\n",
       "4 2017-08-03       2017.0           8.0         3.0"
      ]
     },
     "execution_count": 6,
     "metadata": {},
     "output_type": "execute_result"
    }
   ],
   "source": [
    "# Convert 'joined' column into datatime, \n",
    "df['joined'] = pd.to_datetime(df['joined'], errors='coerce')\n",
    "\n",
    "# then extract the year, month, and day into 3 separate cols\n",
    "df['joined_year'] = df['joined'].dt.year\n",
    "df['joined_month'] = df['joined'].dt.month\n",
    "df['joined_day'] = df['joined'].dt.day\n",
    "\n",
    "# Display the results\n",
    "df[['joined', 'joined_year', 'joined_month', 'joined_day']].head()"
   ]
  },
  {
   "cell_type": "code",
   "execution_count": 7,
   "id": "6f7eb087-2b7d-48ed-bea9-306ef03920df",
   "metadata": {},
   "outputs": [
    {
     "data": {
      "text/plain": [
       "value_eur               int64\n",
       "wage_eur                int64\n",
       "release_clause_eur    float64\n",
       "dtype: object"
      ]
     },
     "execution_count": 7,
     "metadata": {},
     "output_type": "execute_result"
    }
   ],
   "source": [
    "# Check datatype of 'value, wage, release clause' cols\n",
    "df[['value_eur', 'wage_eur', 'release_clause_eur']].dtypes"
   ]
  },
  {
   "cell_type": "code",
   "execution_count": 8,
   "id": "6d568d2b-4c21-4c6e-9bf2-08726aa8a20e",
   "metadata": {},
   "outputs": [
    {
     "data": {
      "text/plain": [
       "release_clause_eur    int32\n",
       "dtype: object"
      ]
     },
     "execution_count": 8,
     "metadata": {},
     "output_type": "execute_result"
    }
   ],
   "source": [
    "# Convert float to int\n",
    "df['release_clause_eur'] = df['release_clause_eur'].fillna(0).astype(int)\n",
    "\n",
    "# Verify the change\n",
    "df[['release_clause_eur']].dtypes"
   ]
  },
  {
   "cell_type": "code",
   "execution_count": 9,
   "id": "ea5dfcc3-4e8f-4327-8128-bdad76aabd1e",
   "metadata": {},
   "outputs": [
    {
     "data": {
      "text/html": [
       "<div>\n",
       "<style scoped>\n",
       "    .dataframe tbody tr th:only-of-type {\n",
       "        vertical-align: middle;\n",
       "    }\n",
       "\n",
       "    .dataframe tbody tr th {\n",
       "        vertical-align: top;\n",
       "    }\n",
       "\n",
       "    .dataframe thead th {\n",
       "        text-align: right;\n",
       "    }\n",
       "</style>\n",
       "<table border=\"1\" class=\"dataframe\">\n",
       "  <thead>\n",
       "    <tr style=\"text-align: right;\">\n",
       "      <th></th>\n",
       "      <th>value_eur</th>\n",
       "      <th>wage_eur</th>\n",
       "      <th>release_clause_eur</th>\n",
       "    </tr>\n",
       "  </thead>\n",
       "  <tbody>\n",
       "    <tr>\n",
       "      <th>0</th>\n",
       "      <td>67500000</td>\n",
       "      <td>560000</td>\n",
       "      <td>138400000</td>\n",
       "    </tr>\n",
       "    <tr>\n",
       "      <th>1</th>\n",
       "      <td>46000000</td>\n",
       "      <td>220000</td>\n",
       "      <td>75900000</td>\n",
       "    </tr>\n",
       "    <tr>\n",
       "      <th>2</th>\n",
       "      <td>75000000</td>\n",
       "      <td>125000</td>\n",
       "      <td>159400000</td>\n",
       "    </tr>\n",
       "    <tr>\n",
       "      <th>3</th>\n",
       "      <td>80000000</td>\n",
       "      <td>240000</td>\n",
       "      <td>132000000</td>\n",
       "    </tr>\n",
       "    <tr>\n",
       "      <th>4</th>\n",
       "      <td>90000000</td>\n",
       "      <td>270000</td>\n",
       "      <td>166500000</td>\n",
       "    </tr>\n",
       "  </tbody>\n",
       "</table>\n",
       "</div>"
      ],
      "text/plain": [
       "   value_eur  wage_eur  release_clause_eur\n",
       "0   67500000    560000           138400000\n",
       "1   46000000    220000            75900000\n",
       "2   75000000    125000           159400000\n",
       "3   80000000    240000           132000000\n",
       "4   90000000    270000           166500000"
      ]
     },
     "execution_count": 9,
     "metadata": {},
     "output_type": "execute_result"
    }
   ],
   "source": [
    "# Display the results of the 3 cols\n",
    "df[['value_eur', 'wage_eur', 'release_clause_eur']].head()"
   ]
  },
  {
   "cell_type": "code",
   "execution_count": 10,
   "id": "7ee8ff4c-e7e4-44d8-92b2-eed340352cb6",
   "metadata": {},
   "outputs": [
    {
     "data": {
      "text/plain": [
       "dtype('float64')"
      ]
     },
     "execution_count": 10,
     "metadata": {},
     "output_type": "execute_result"
    }
   ],
   "source": [
    "df['contract_valid_until'].dtypes"
   ]
  },
  {
   "cell_type": "code",
   "execution_count": 11,
   "id": "19689cfe-7e69-44f9-a702-f681c98ddb7e",
   "metadata": {},
   "outputs": [],
   "source": [
    "# Convert to int\n",
    "df['contract_valid_until'] = df['contract_valid_until'].fillna(0).astype(int)"
   ]
  },
  {
   "cell_type": "code",
   "execution_count": 12,
   "id": "f3672230-a49d-462d-a12b-ce3fdf189925",
   "metadata": {},
   "outputs": [
    {
     "data": {
      "text/plain": [
       "sofifa_id         0\n",
       "player_url        0\n",
       "short_name        0\n",
       "long_name         0\n",
       "age               0\n",
       "               ... \n",
       "rcb               0\n",
       "rb                0\n",
       "joined_year     983\n",
       "joined_month    983\n",
       "joined_day      983\n",
       "Length: 109, dtype: int64"
      ]
     },
     "execution_count": 12,
     "metadata": {},
     "output_type": "execute_result"
    }
   ],
   "source": [
    "# Check if there's missing values in the dataset\n",
    "missing_values = df.isnull().sum()\n",
    "missing_values"
   ]
  },
  {
   "cell_type": "code",
   "execution_count": null,
   "id": "76a9d825-d660-456c-b008-96fc3842b77b",
   "metadata": {},
   "outputs": [],
   "source": []
  },
  {
   "cell_type": "markdown",
   "id": "47a42680-51ab-45e7-a049-0e47ddbedec0",
   "metadata": {},
   "source": [
    "## Analyzing Contract Expiration Trend\n",
    "- Explore trends in contract expiration dates across clubs or nationalities"
   ]
  },
  {
   "cell_type": "code",
   "execution_count": 14,
   "id": "ee8249de-e7b0-487c-a513-13694a519f5f",
   "metadata": {},
   "outputs": [],
   "source": [
    "# "
   ]
  },
  {
   "cell_type": "markdown",
   "id": "ea078a5e-1375-421c-9fe5-796ac600baba",
   "metadata": {},
   "source": [
    "## Player Performance vs Wage\n",
    "- Analyze if higher wages correlate with better player performance ratings."
   ]
  },
  {
   "cell_type": "code",
   "execution_count": 16,
   "id": "46bc3d61-cadd-4d32-b7f9-2f2773c9f61a",
   "metadata": {},
   "outputs": [],
   "source": [
    "# Extract relevant columns for analysis (wage and overall rating)\n",
    "df_performance = df[['wage_eur', 'overall']]"
   ]
  },
  {
   "cell_type": "code",
   "execution_count": 17,
   "id": "58b277e8-2fb7-4680-89ca-6079ea1edccb",
   "metadata": {},
   "outputs": [],
   "source": [
    "# Exclude the players with a wage of zero from thsi analysis, as they could be outliers or represent missing data\n",
    "# which could distort the results\n",
    "df_performance = df_performance[df_performance['wage_eur'] > 0]"
   ]
  },
  {
   "cell_type": "code",
   "execution_count": 18,
   "id": "f516863f-d19d-4ebf-9639-2e3d1f89c1f8",
   "metadata": {},
   "outputs": [],
   "source": [
    "#  Check for any missing data and clean if necessary\n",
    "df_performance = df_performance.dropna()"
   ]
  },
  {
   "cell_type": "code",
   "execution_count": 19,
   "id": "c7a5e1a3-0cae-4a41-ab39-cb67cb962731",
   "metadata": {},
   "outputs": [],
   "source": [
    "# Define wage bins\n",
    "wage_bins = [0, 10000, 20000, 50000, 100000, 200000, 500000, 1000000]  # Define wage ranges\n",
    "wage_labels = ['0-10K', '10K-20K', '20K-50K', '50K-100K', '100K-200K', '200K-500K', '500K-1M']"
   ]
  },
  {
   "cell_type": "code",
   "execution_count": 20,
   "id": "733c18db-3f85-4883-b2bd-5f3957d5228d",
   "metadata": {},
   "outputs": [],
   "source": [
    "# Bin the wages\n",
    "df_performance['wage_bin'] = pd.cut(df_performance['wage_eur'], bins=wage_bins, labels=wage_labels)"
   ]
  },
  {
   "cell_type": "code",
   "execution_count": 21,
   "id": "0a221bbb-4618-4b53-a7b0-e81f690c7800",
   "metadata": {},
   "outputs": [
    {
     "data": {
      "image/png": "[encoded data removed]",
      "text/plain": [
       "<Figure size 1000x600 with 1 Axes>"
      ]
     },
     "metadata": {},
     "output_type": "display_data"
    }
   ],
   "source": [
    "# Step 3: Create a scatter plot to visualize the relationship\n",
    "plt.figure(figsize=(10, 6))\n",
    "plt.scatter(df_performance['wage_bin'],df_performance['overall'])\n",
    "plt.title('Player Wages vs Overall Ratings')\n",
    "plt.xlabel('Wage (EUR)')\n",
    "plt.ylabel('Overall Performance Rating')\n",
    "plt.show()"
   ]
  },
  {
   "cell_type": "code",
   "execution_count": 22,
   "id": "1d86a257-c3cf-494d-9115-96219f5398cf",
   "metadata": {},
   "outputs": [
    {
     "name": "stdout",
     "output_type": "stream",
     "text": [
      "Correlation between wage and overall performance: 0.5809282477363932\n"
     ]
    }
   ],
   "source": [
    "# Calculate the correlation coefficient\n",
    "correlation = df_performance['wage_eur'].corr(df_performance['overall'])\n",
    "print(f\"Correlation between wage and overall performance: {correlation}\")"
   ]
  },
  {
   "cell_type": "markdown",
   "id": "c11f977e-8e01-4ae0-82e8-ebda8d6872c3",
   "metadata": {},
   "source": [
    "- A correlation coefficient of 0.5809 indicates a moderate positive relationship between player wages and overall performance ratings.\n"
   ]
  },
  {
   "cell_type": "code",
   "execution_count": 24,
   "id": "f6f9fc0b-9cf7-4edf-8647-b681373879a1",
   "metadata": {},
   "outputs": [
    {
     "ename": "TypeError",
     "evalue": "ufunc 'divide' not supported for the input types, and the inputs could not be safely coerced to any supported types according to the casting rule ''safe''",
     "output_type": "error",
     "traceback": [
      "\u001b[1;31m---------------------------------------------------------------------------\u001b[0m",
      "\u001b[1;31mTypeError\u001b[0m                                 Traceback (most recent call last)",
      "Cell \u001b[1;32mIn[24], line 2\u001b[0m\n\u001b[0;32m      1\u001b[0m \u001b[38;5;66;03m# Calculate a linear regression model\u001b[39;00m\n\u001b[1;32m----> 2\u001b[0m model \u001b[38;5;241m=\u001b[39m st\u001b[38;5;241m.\u001b[39mlinregress(df_performance[\u001b[38;5;124m'\u001b[39m\u001b[38;5;124mwage_bin\u001b[39m\u001b[38;5;124m'\u001b[39m],df_performance[\u001b[38;5;124m'\u001b[39m\u001b[38;5;124moverall\u001b[39m\u001b[38;5;124m'\u001b[39m])\n",
      "File \u001b[1;32m~\\anaconda3\\Lib\\site-packages\\scipy\\stats\\_stats_mstats_common.py:161\u001b[0m, in \u001b[0;36mlinregress\u001b[1;34m(x, y, alternative)\u001b[0m\n\u001b[0;32m    157\u001b[0m     \u001b[38;5;28;01mraise\u001b[39;00m \u001b[38;5;167;01mValueError\u001b[39;00m(\u001b[38;5;124m\"\u001b[39m\u001b[38;5;124mCannot calculate a linear regression \u001b[39m\u001b[38;5;124m\"\u001b[39m\n\u001b[0;32m    158\u001b[0m                      \u001b[38;5;124m\"\u001b[39m\u001b[38;5;124mif all x values are identical\u001b[39m\u001b[38;5;124m\"\u001b[39m)\n\u001b[0;32m    160\u001b[0m n \u001b[38;5;241m=\u001b[39m \u001b[38;5;28mlen\u001b[39m(x)\n\u001b[1;32m--> 161\u001b[0m xmean \u001b[38;5;241m=\u001b[39m np\u001b[38;5;241m.\u001b[39mmean(x, \u001b[38;5;28;01mNone\u001b[39;00m)\n\u001b[0;32m    162\u001b[0m ymean \u001b[38;5;241m=\u001b[39m np\u001b[38;5;241m.\u001b[39mmean(y, \u001b[38;5;28;01mNone\u001b[39;00m)\n\u001b[0;32m    164\u001b[0m \u001b[38;5;66;03m# Average sums of square differences from the mean\u001b[39;00m\n\u001b[0;32m    165\u001b[0m \u001b[38;5;66;03m#   ssxm = mean( (x-mean(x))^2 )\u001b[39;00m\n\u001b[0;32m    166\u001b[0m \u001b[38;5;66;03m#   ssxym = mean( (x-mean(x)) * (y-mean(y)) )\u001b[39;00m\n",
      "File \u001b[1;32m~\\anaconda3\\Lib\\site-packages\\numpy\\core\\fromnumeric.py:3504\u001b[0m, in \u001b[0;36mmean\u001b[1;34m(a, axis, dtype, out, keepdims, where)\u001b[0m\n\u001b[0;32m   3501\u001b[0m     \u001b[38;5;28;01melse\u001b[39;00m:\n\u001b[0;32m   3502\u001b[0m         \u001b[38;5;28;01mreturn\u001b[39;00m mean(axis\u001b[38;5;241m=\u001b[39maxis, dtype\u001b[38;5;241m=\u001b[39mdtype, out\u001b[38;5;241m=\u001b[39mout, \u001b[38;5;241m*\u001b[39m\u001b[38;5;241m*\u001b[39mkwargs)\n\u001b[1;32m-> 3504\u001b[0m \u001b[38;5;28;01mreturn\u001b[39;00m _methods\u001b[38;5;241m.\u001b[39m_mean(a, axis\u001b[38;5;241m=\u001b[39maxis, dtype\u001b[38;5;241m=\u001b[39mdtype,\n\u001b[0;32m   3505\u001b[0m                       out\u001b[38;5;241m=\u001b[39mout, \u001b[38;5;241m*\u001b[39m\u001b[38;5;241m*\u001b[39mkwargs)\n",
      "File \u001b[1;32m~\\anaconda3\\Lib\\site-packages\\numpy\\core\\_methods.py:131\u001b[0m, in \u001b[0;36m_mean\u001b[1;34m(a, axis, dtype, out, keepdims, where)\u001b[0m\n\u001b[0;32m    129\u001b[0m         ret \u001b[38;5;241m=\u001b[39m ret\u001b[38;5;241m.\u001b[39mdtype\u001b[38;5;241m.\u001b[39mtype(ret \u001b[38;5;241m/\u001b[39m rcount)\n\u001b[0;32m    130\u001b[0m \u001b[38;5;28;01melse\u001b[39;00m:\n\u001b[1;32m--> 131\u001b[0m     ret \u001b[38;5;241m=\u001b[39m ret \u001b[38;5;241m/\u001b[39m rcount\n\u001b[0;32m    133\u001b[0m \u001b[38;5;28;01mreturn\u001b[39;00m ret\n",
      "\u001b[1;31mTypeError\u001b[0m: ufunc 'divide' not supported for the input types, and the inputs could not be safely coerced to any supported types according to the casting rule ''safe''"
     ]
    }
   ],
   "source": [
    "# Calculate a linear regression model\n",
    "model = st.linregress(df_performance['wage_bin'],df_performance['overall'])"
   ]
  },
  {
   "cell_type": "code",
   "execution_count": null,
   "id": "a407f896-f620-4c1e-81fd-07ebe3ed6cd7",
   "metadata": {},
   "outputs": [],
   "source": [
    "# Plot the scatter plot with regression\n",
    "y_values = capomulin_average['Weight (g)']*model[0]+model[1]"
   ]
  },
  {
   "cell_type": "code",
   "execution_count": null,
   "id": "377bd71e-9235-442f-add0-9d1c9fcb1d00",
   "metadata": {},
   "outputs": [],
   "source": [
    "# Step 3: Group by wage_bin and calculate summary statistics for overall performance\n",
    "summary_stats_binned = df_performance.groupby('wage_bin')['overall'].agg(['mean', 'median', 'var', 'std', 'sem'])\n",
    "\n",
    "# Display the binned summary statistics\n",
    "summary_stats_binned"
   ]
  },
  {
   "cell_type": "markdown",
   "id": "43f43f33-2b84-4b5c-8f5f-a1b4d246104c",
   "metadata": {},
   "source": [
    "- Comparing the mean overall ratings across the wage bins. The higher wage bins have significantly higher mean overall ratings, the players with higher wages generally perform better\n",
    "- The median across wage bins follows the same pattern as the mean (increasing with wage), it supports the observation that hgiher wages are associated with better players.\n",
    "- Variance for the lower wage bin 0-10k is high, this means there's a large spread in the overall ratings. It has mixed performance levels, with both high and low performers."
   ]
  },
  {
   "cell_type": "code",
   "execution_count": null,
   "id": "69e8a151-8d0f-4728-a624-643d9d052311",
   "metadata": {},
   "outputs": [],
   "source": [
    "# Create the bar graph\n",
    "mean_performance_by_bin = df_performance.groupby('wage_bin')['overall'].mean()\n",
    "\n",
    "plt.figure(figsize=(10, 6))\n",
    "mean_performance_by_bin.plot(kind='bar')\n",
    "plt.title('Mean Overall Performance by Wage Bin')\n",
    "plt.xlabel('Wage Bin (EUR)')\n",
    "plt.ylabel('Mean Overall Performance')\n",
    "plt.xticks(rotation=45)\n",
    "plt.show()"
   ]
  },
  {
   "cell_type": "code",
   "execution_count": null,
   "id": "3fe823ce-e4c8-47e5-bfa5-87ed2733a37f",
   "metadata": {},
   "outputs": [],
   "source": [
    "# Create a boxplot for Wages\n",
    "box_data = [df_performance[df_performance['wage_bin'] == label]['overall'] for label in wage_labels]\n",
    "\n",
    "plt.figure(figsize=(12, 6))\n",
    "plt.boxplot(box_data, labels=wage_labels, patch_artist=True, boxprops=dict(facecolor='skyblue', color='blue'),\n",
    "            medianprops=dict(color='red'), whiskerprops=dict(color='blue'), capprops=dict(color='blue'))\n",
    "\n",
    "plt.title('Distribution of Overall Performance Ratings by Wage Bin')\n",
    "plt.xlabel('Wage Bin (EUR)')\n",
    "plt.ylabel('Overall Performance Rating')\n",
    "plt.xticks(rotation=45)\n",
    "plt.grid(axis='y')\n",
    "plt.show()"
   ]
  },
  {
   "cell_type": "markdown",
   "id": "82d7c932-dec5-4ddf-a15c-1807867184fe",
   "metadata": {},
   "source": [
    "## Position Analysis\n",
    "- Analyze which positions (forwards, midfielders, etc) have the highest overall ratings or wage"
   ]
  },
  {
   "cell_type": "code",
   "execution_count": 25,
   "id": "a70e7683-bdee-40c2-abf4-2c06dce8f681",
   "metadata": {},
   "outputs": [
    {
     "data": {
      "text/html": [
       "<div>\n",
       "<style scoped>\n",
       "    .dataframe tbody tr th:only-of-type {\n",
       "        vertical-align: middle;\n",
       "    }\n",
       "\n",
       "    .dataframe tbody tr th {\n",
       "        vertical-align: top;\n",
       "    }\n",
       "\n",
       "    .dataframe thead th {\n",
       "        text-align: right;\n",
       "    }\n",
       "</style>\n",
       "<table border=\"1\" class=\"dataframe\">\n",
       "  <thead>\n",
       "    <tr style=\"text-align: right;\">\n",
       "      <th></th>\n",
       "      <th>Minimum</th>\n",
       "      <th>Q1 (25th Percentile)</th>\n",
       "      <th>Median (50th Percentile)</th>\n",
       "      <th>Q3 (75th Percentile)</th>\n",
       "      <th>Maximum</th>\n",
       "    </tr>\n",
       "  </thead>\n",
       "  <tbody>\n",
       "    <tr>\n",
       "      <th>0</th>\n",
       "      <td>47</td>\n",
       "      <td>61.0</td>\n",
       "      <td>66.0</td>\n",
       "      <td>70.0</td>\n",
       "      <td>93</td>\n",
       "    </tr>\n",
       "  </tbody>\n",
       "</table>\n",
       "</div>"
      ],
      "text/plain": [
       "   Minimum  Q1 (25th Percentile)  Median (50th Percentile)  \\\n",
       "0       47                  61.0                      66.0   \n",
       "\n",
       "   Q3 (75th Percentile)  Maximum  \n",
       "0                  70.0       93  "
      ]
     },
     "metadata": {},
     "output_type": "display_data"
    }
   ],
   "source": [
    "# Create a data frame of the analysis of performance\n",
    "\n",
    "#Calculate the Analysis\n",
    "minimum = df['overall'].min()\n",
    "Q1 = df['overall'].quantile(0.25)\n",
    "median = df['overall'].median()\n",
    "Q3 = df['overall'].quantile(0.75)\n",
    "maximum = df['overall'].max()\n",
    "\n",
    "#Create a dictionary for the DFs\n",
    "\n",
    "analysis_of_performance = {\n",
    "    'Minimum': minimum,\n",
    "    'Q1 (25th Percentile)': Q1,\n",
    "    'Median (50th Percentile)': median,\n",
    "    'Q3 (75th Percentile)': Q3,\n",
    "    'Maximum': maximum\n",
    "}\n",
    "\n",
    "# Create a DataFrame from the dictionary\n",
    "analysis_of_performance_df = pd.DataFrame(analysis_of_performance, index=[0])\n",
    "\n",
    "# Display the DataFrame\n",
    "display(analysis_of_performance_df)\n",
    "\n"
   ]
  },
  {
   "cell_type": "code",
   "execution_count": 27,
   "id": "1c8c2a88-940e-469a-8dc1-750977db7c93",
   "metadata": {},
   "outputs": [
    {
     "data": {
      "image/png": "[encoded data removed]",
      "text/plain": [
       "<Figure size 640x480 with 1 Axes>"
      ]
     },
     "metadata": {},
     "output_type": "display_data"
    }
   ],
   "source": [
    "\n",
    "plt.boxplot(df['overall'])  \n",
    "\n",
    "# Add titles and labels\n",
    "plt.title('Box Plot of Overall Ratings')\n",
    "plt.xlabel('Overall Rating')\n",
    "\n",
    "# Show the plot\n",
    "plt.show()"
   ]
  },
  {
   "cell_type": "code",
   "execution_count": 29,
   "id": "f60e2ec0-0c14-41e0-a116-8d25a26d9d66",
   "metadata": {},
   "outputs": [
    {
     "data": {
      "image/png": "[encoded data removed]",
      "text/plain": [
       "<Figure size 640x480 with 1 Axes>"
      ]
     },
     "metadata": {},
     "output_type": "display_data"
    }
   ],
   "source": [
    "# Desired order of player positions\n",
    "work_order = ['Low/Low', 'Low/Medium', 'Low/High', 'Medium/Low', 'Medium/Medium', 'Medium/High', 'High/Low', 'High/Medium', 'High/High']\n",
    "\n",
    "# Calculate the average overall rating for each player position\n",
    "avg_overall_by_work_rate = df.groupby('work_rate')['overall'].mean().reset_index()\n",
    "\n",
    "# Convert player_position to a categorical type with the specified order\n",
    "avg_overall_by_work_rate['work_rate'] = pd.Categorical(avg_overall_by_work_rate['work_rate'], categories=work_order, ordered=True)\n",
    "\n",
    "# Sort the DataFrame by the ordered work_rate\n",
    "avg_overall_by_work_rate = avg_overall_by_work_rate.sort_values('work_rate')\n",
    "\n",
    "# Create the bar graph\n",
    "plt.bar(avg_overall_by_work_rate['work_rate'], avg_overall_by_work_rate['overall'])\n",
    "\n",
    "# Add titles and labels\n",
    "plt.title('Average Overall Rating by Work Rate')\n",
    "plt.xlabel('Work Rate')\n",
    "plt.ylabel('Average Overall Rating')\n",
    "plt.xticks(rotation=45)\n",
    "\n",
    "# Show the plot\n",
    "plt.show()\n"
   ]
  },
  {
   "cell_type": "code",
   "execution_count": 31,
   "id": "c83f2cc6-833a-45da-8d2d-6fdc5959e424",
   "metadata": {},
   "outputs": [
    {
     "data": {
      "image/png": "[encoded data removed]",
      "text/plain": [
       "<Figure size 1000x600 with 1 Axes>"
      ]
     },
     "metadata": {},
     "output_type": "display_data"
    }
   ],
   "source": [
    "# Ensure there are no NaN values in the 'work_rate' and 'overall' columns\n",
    "work_rate_clean_df = df.dropna(subset=['work_rate', 'overall'])\n",
    "\n",
    "# Group the data by work_rate\n",
    "work_rate_groups = [work_rate_clean_df[work_rate_clean_df['work_rate'] == rate]['overall'] for rate in work_rate_clean_df['work_rate'].unique()]\n",
    "\n",
    "# Create side-by-side box plots\n",
    "plt.figure(figsize=(10, 6))\n",
    "plt.boxplot(work_rate_groups, labels=work_rate_clean_df['work_rate'].unique())\n",
    "\n",
    "# Add title and labels\n",
    "plt.title('Overall Performance by Work Rate')\n",
    "plt.xlabel('Work Rate')\n",
    "plt.ylabel('Overall Performance')\n",
    "\n",
    "# Rotate the x-ticks for better readability\n",
    "plt.xticks(rotation=45)\n",
    "\n",
    "# Show the plot\n",
    "plt.tight_layout()\n",
    "plt.show()"
   ]
  },
  {
   "cell_type": "code",
   "execution_count": null,
   "id": "e4962f02-4053-4e0d-af33-40a939690c1c",
   "metadata": {},
   "outputs": [],
   "source": [
    "# Performing ANOVA\n",
    "anova_result = st.f_oneway(\n",
    "    df[df['work_rate'] == 'Low/Low']['overall'],\n",
    "    df[df['work_rate'] == 'Low/Medium']['overall'],\n",
    "    df[df['work_rate'] == 'Low/High']['overall'],\n",
    "    df[df['work_rate'] == 'Medium/Low']['overall'],\n",
    "    df[df['work_rate'] == 'Medium/Medium']['overall'],\n",
    "    df[df['work_rate'] == 'Medium/High']['overall'],\n",
    "    df[df['work_rate'] == 'High/Low']['overall'],\n",
    "    df[df['work_rate'] == 'High/Medium']['overall'],\n",
    "    df[df['work_rate'] == 'High/High']['overall']\n",
    ")\n",
    "\n",
    "print('ANOVA result:', anova_result)\n",
    "\n"
   ]
  },
  {
   "cell_type": "code",
   "execution_count": null,
   "id": "fe896ad2-8754-4f26-abcc-87ccc797017c",
   "metadata": {},
   "outputs": [],
   "source": [
    "import statsmodels.api as sm\n",
    "from statsmodels.stats.multicomp import pairwise_tukeyhsd\n",
    "\n",
    "# Perform Tukey's HSD test\n",
    "tukey = pairwise_tukeyhsd(endog=df['overall'],    \n",
    "                          groups=df['work_rate'],  \n",
    "                          alpha=0.05)            \n",
    "\n",
    "# Display the test results\n",
    "print(tukey)\n"
   ]
  },
  {
   "cell_type": "code",
   "execution_count": null,
   "id": "bc6952fa-5049-4ffc-8f5c-1620da7ef1fd",
   "metadata": {},
   "outputs": [],
   "source": [
    "# Create a new column 'contract length' as the difference between 'contract_valid_until' and 'joined_year'\n",
    "contract_df = df[['overall', 'joined_year', 'contract_valid_until']].copy()\n",
    "contract_df['contract length'] = (contract_df['contract_valid_until'] - contract_df['joined_year'] + 1)\n",
    "contract_df_clean = contract_df.dropna()"
   ]
  },
  {
   "cell_type": "code",
   "execution_count": null,
   "id": "337e0157-2b03-4dd4-ab1c-2231502f1c5d",
   "metadata": {},
   "outputs": [],
   "source": [
    "#Calculate the Analysis\n",
    "minimum_2 = contract_df_clean['contract length'].min()\n",
    "Q1_2 = contract_df_clean['contract length'].quantile(0.25)\n",
    "median_2 = contract_df_clean['contract length'].median()\n",
    "Q3_2 = contract_df_clean['contract length'].quantile(0.75)\n",
    "maximum_2 = contract_df_clean['contract length'].max()\n",
    "\n",
    "#Create a dictionary for the DFs\n",
    "\n",
    "analysis_of_contract = {\n",
    "    'Minimum': minimum_2,\n",
    "    'Q1 (25th Percentile)': Q1_2,\n",
    "    'Median (50th Percentile)': median_2,\n",
    "    'Q3 (75th Percentile)': Q3_2,\n",
    "    'Maximum': maximum_2\n",
    "}\n",
    "\n",
    "# Create a DataFrame from the dictionary\n",
    "analysis_of_contract_df = pd.DataFrame(analysis_of_contract, index=[0])\n",
    "\n",
    "# Display the DataFrame\n",
    "display(analysis_of_contract_df)\n"
   ]
  },
  {
   "cell_type": "code",
   "execution_count": null,
   "id": "0e8b4912-79ed-491d-b78a-d99c2f9c4412",
   "metadata": {},
   "outputs": [],
   "source": [
    "plt.boxplot(contract_df_clean['contract length'])  \n",
    "\n",
    "# Add titles and labels\n",
    "plt.title('Box Plot of Contract Length')\n",
    "plt.xlabel('Contract Length')\n",
    "\n",
    "# Show the plot\n",
    "plt.show()"
   ]
  },
  {
   "cell_type": "code",
   "execution_count": null,
   "id": "7a96bed7-8613-48f4-832c-7142c818f56e",
   "metadata": {},
   "outputs": [],
   "source": [
    "# Ensure there are no NaN values in the cleaned DataFrame\n",
    "contract_clean_df = contract_df_clean.dropna(subset=['contract length', 'overall'])\n",
    "\n",
    "# Define the variables for regression\n",
    "contract_length = contract_clean_df['contract length']  \n",
    "overall_performance = contract_clean_df['overall']\n",
    "\n",
    "# Perform linear regression\n",
    "slope, intercept, r_value, p_value, std_err = st.linregress(contract_length, overall_performance)\n",
    "\n",
    "# Create regression line values\n",
    "regress_values = slope * contract_length + intercept\n",
    "\n",
    "# Create equation line for annotation\n",
    "line_eq = f\"y = {round(slope, 2)}x + {round(intercept, 2)}\"\n",
    "\n",
    "# Create correlation coefficient string\n",
    "correlation_eq = f\"R = {round(r_value, 2)}\"\n",
    "\n",
    "# Step 6: Graph\n",
    "plt.scatter(contract_length, overall_performance, label='Data Points')\n",
    "plt.plot(contract_length, regress_values, 'r-', label='Regression Line')\n",
    "plt.title('Contract Length vs. Overall Performance')\n",
    "plt.xlabel('Contract Length')\n",
    "plt.ylabel('Overall Performance')\n",
    "plt.legend()\n",
    "\n",
    "# Annotate the equation and correlation on the graph\n",
    "plt.annotate(line_eq, (0.05, 0.85), fontsize=12, color='red', xycoords='axes fraction')\n",
    "plt.annotate(correlation_eq, (0.05, 0.80), fontsize=12, color='blue', xycoords='axes fraction')\n",
    "\n",
    "# Show the plot\n",
    "plt.show()\n",
    "\n",
    "# Print R-squared value\n",
    "print(f\"R²: {r_value**2}\")\n",
    "\n",
    "\n",
    "\n"
   ]
  }
 ],
 "metadata": {
  "kernelspec": {
   "display_name": "Python 3 (ipykernel)",
   "language": "python",
   "name": "python3"
  },
  "language_info": {
   "codemirror_mode": {
    "name": "ipython",
    "version": 3
   },
   "file_extension": ".py",
   "mimetype": "text/x-python",
   "name": "python",
   "nbconvert_exporter": "python",
   "pygments_lexer": "ipython3",
   "version": "3.12.4"
  }
 },
 "nbformat": 4,
 "nbformat_minor": 5
}
